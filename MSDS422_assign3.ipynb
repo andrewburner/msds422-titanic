{
  "nbformat": 4,
  "nbformat_minor": 0,
  "metadata": {
    "colab": {
      "name": "MSDS422_assign3.ipynb",
      "provenance": [],
      "mount_file_id": "1hb0rM0c9oduW1UcAsT_dK6NZPNoHFI3n",
      "authorship_tag": "ABX9TyNLP4tmfYUE3tvWZwiIah8s",
      "include_colab_link": true
    },
    "kernelspec": {
      "name": "python3",
      "display_name": "Python 3"
    }
  },
  "cells": [
    {
      "cell_type": "markdown",
      "metadata": {
        "id": "view-in-github",
        "colab_type": "text"
      },
      "source": [
        "<a href=\"https://colab.research.google.com/github/andrewburner/msds422-titanic/blob/master/MSDS422_assign3.ipynb\" target=\"_parent\"><img src=\"https://colab.research.google.com/assets/colab-badge.svg\" alt=\"Open In Colab\"/></a>"
      ]
    },
    {
      "cell_type": "code",
      "metadata": {
        "id": "f0Exk3gbC-is",
        "outputId": "a6eef8ba-65bf-4bbd-faba-2716529a37d4",
        "colab": {
          "base_uri": "https://localhost:8080/",
          "height": 224
        }
      },
      "source": [
        "!pip install scikit-plot"
      ],
      "execution_count": 61,
      "outputs": [
        {
          "output_type": "stream",
          "text": [
            "Requirement already satisfied: scikit-plot in /usr/local/lib/python3.6/dist-packages (0.3.7)\n",
            "Requirement already satisfied: scipy>=0.9 in /usr/local/lib/python3.6/dist-packages (from scikit-plot) (1.4.1)\n",
            "Requirement already satisfied: scikit-learn>=0.18 in /usr/local/lib/python3.6/dist-packages (from scikit-plot) (0.22.2.post1)\n",
            "Requirement already satisfied: joblib>=0.10 in /usr/local/lib/python3.6/dist-packages (from scikit-plot) (0.16.0)\n",
            "Requirement already satisfied: matplotlib>=1.4.0 in /usr/local/lib/python3.6/dist-packages (from scikit-plot) (3.2.2)\n",
            "Requirement already satisfied: numpy>=1.13.3 in /usr/local/lib/python3.6/dist-packages (from scipy>=0.9->scikit-plot) (1.18.5)\n",
            "Requirement already satisfied: cycler>=0.10 in /usr/local/lib/python3.6/dist-packages (from matplotlib>=1.4.0->scikit-plot) (0.10.0)\n",
            "Requirement already satisfied: kiwisolver>=1.0.1 in /usr/local/lib/python3.6/dist-packages (from matplotlib>=1.4.0->scikit-plot) (1.2.0)\n",
            "Requirement already satisfied: pyparsing!=2.0.4,!=2.1.2,!=2.1.6,>=2.0.1 in /usr/local/lib/python3.6/dist-packages (from matplotlib>=1.4.0->scikit-plot) (2.4.7)\n",
            "Requirement already satisfied: python-dateutil>=2.1 in /usr/local/lib/python3.6/dist-packages (from matplotlib>=1.4.0->scikit-plot) (2.8.1)\n",
            "Requirement already satisfied: six in /usr/local/lib/python3.6/dist-packages (from cycler>=0.10->matplotlib>=1.4.0->scikit-plot) (1.15.0)\n"
          ],
          "name": "stdout"
        }
      ]
    },
    {
      "cell_type": "code",
      "metadata": {
        "id": "dFfvoyA2X24O"
      },
      "source": [
        "import numpy as np\n",
        "import pandas as pd\n",
        "import math\n",
        "from math import exp\n",
        "\n",
        "import statsmodels.formula.api as sm\n",
        "from xgboost import XGBClassifier\n",
        "\n",
        "from sklearn.linear_model import LogisticRegression\n",
        "from sklearn.linear_model import LinearRegression\n",
        "from sklearn.svm import SVC, LinearSVC\n",
        "from sklearn.neighbors import KNeighborsClassifier\n",
        "from sklearn.naive_bayes import GaussianNB\n",
        "\n",
        "from sklearn.metrics import make_scorer, accuracy_score, roc_auc_score, roc_curve \n",
        "from sklearn.model_selection import KFold\n",
        "from sklearn.model_selection import cross_val_score\n",
        "from sklearn.metrics import confusion_matrix\n",
        "from sklearn.model_selection import GridSearchCV\n",
        "from sklearn.model_selection import train_test_split\n",
        "\n",
        "import scikitplot as skplt\n",
        "import seaborn as sns\n",
        "from matplotlib import pyplot as plt\n",
        "import seaborn as sns\n",
        "\n",
        "sns.set_style(\"whitegrid\")\n",
        "sns.set(style=\"whitegrid\", color_codes=True)\n",
        "plt.rc(\"font\", size=14)"
      ],
      "execution_count": 152,
      "outputs": []
    },
    {
      "cell_type": "code",
      "metadata": {
        "id": "zP_-jClnrMgz"
      },
      "source": [
        "%matplotlib inline"
      ],
      "execution_count": 63,
      "outputs": []
    },
    {
      "cell_type": "code",
      "metadata": {
        "id": "XJwhTiQEsmIF"
      },
      "source": [
        "def warn(*args, **kwargs):\n",
        "    pass\n",
        "import warnings\n",
        "warnings.warn = warn"
      ],
      "execution_count": 64,
      "outputs": []
    },
    {
      "cell_type": "code",
      "metadata": {
        "id": "sUJ45bE-X7aA",
        "outputId": "efc7164b-3ccf-4979-f234-e342bd09b2f1",
        "colab": {
          "base_uri": "https://localhost:8080/",
          "height": 34
        }
      },
      "source": [
        "from google.colab import drive\n",
        "drive.mount('/content/drive')"
      ],
      "execution_count": 65,
      "outputs": [
        {
          "output_type": "stream",
          "text": [
            "Drive already mounted at /content/drive; to attempt to forcibly remount, call drive.mount(\"/content/drive\", force_remount=True).\n"
          ],
          "name": "stdout"
        }
      ]
    },
    {
      "cell_type": "code",
      "metadata": {
        "id": "sYhtAlejTL4G"
      },
      "source": [
        "train_path = '/content/drive/My Drive/MSDS 422/Assignment 3/train.csv'\n",
        "test_path = '/content/drive/My Drive/MSDS 422/Assignment 3/test.csv'\n",
        "training_df = pd.read_csv(train_path)\n",
        "test_df = pd.read_csv(test_path)"
      ],
      "execution_count": 66,
      "outputs": []
    },
    {
      "cell_type": "code",
      "metadata": {
        "id": "f58efejWZCMa",
        "outputId": "44bb25d9-c4cf-4d66-fa28-e6beab1bbd9d",
        "colab": {
          "base_uri": "https://localhost:8080/",
          "height": 204
        }
      },
      "source": [
        "training_df.head()"
      ],
      "execution_count": 67,
      "outputs": [
        {
          "output_type": "execute_result",
          "data": {
            "text/html": [
              "<div>\n",
              "<style scoped>\n",
              "    .dataframe tbody tr th:only-of-type {\n",
              "        vertical-align: middle;\n",
              "    }\n",
              "\n",
              "    .dataframe tbody tr th {\n",
              "        vertical-align: top;\n",
              "    }\n",
              "\n",
              "    .dataframe thead th {\n",
              "        text-align: right;\n",
              "    }\n",
              "</style>\n",
              "<table border=\"1\" class=\"dataframe\">\n",
              "  <thead>\n",
              "    <tr style=\"text-align: right;\">\n",
              "      <th></th>\n",
              "      <th>PassengerId</th>\n",
              "      <th>Survived</th>\n",
              "      <th>Pclass</th>\n",
              "      <th>Name</th>\n",
              "      <th>Sex</th>\n",
              "      <th>Age</th>\n",
              "      <th>SibSp</th>\n",
              "      <th>Parch</th>\n",
              "      <th>Ticket</th>\n",
              "      <th>Fare</th>\n",
              "      <th>Cabin</th>\n",
              "      <th>Embarked</th>\n",
              "    </tr>\n",
              "  </thead>\n",
              "  <tbody>\n",
              "    <tr>\n",
              "      <th>0</th>\n",
              "      <td>1</td>\n",
              "      <td>0</td>\n",
              "      <td>3</td>\n",
              "      <td>Braund, Mr. Owen Harris</td>\n",
              "      <td>male</td>\n",
              "      <td>22.0</td>\n",
              "      <td>1</td>\n",
              "      <td>0</td>\n",
              "      <td>A/5 21171</td>\n",
              "      <td>7.2500</td>\n",
              "      <td>NaN</td>\n",
              "      <td>S</td>\n",
              "    </tr>\n",
              "    <tr>\n",
              "      <th>1</th>\n",
              "      <td>2</td>\n",
              "      <td>1</td>\n",
              "      <td>1</td>\n",
              "      <td>Cumings, Mrs. John Bradley (Florence Briggs Th...</td>\n",
              "      <td>female</td>\n",
              "      <td>38.0</td>\n",
              "      <td>1</td>\n",
              "      <td>0</td>\n",
              "      <td>PC 17599</td>\n",
              "      <td>71.2833</td>\n",
              "      <td>C85</td>\n",
              "      <td>C</td>\n",
              "    </tr>\n",
              "    <tr>\n",
              "      <th>2</th>\n",
              "      <td>3</td>\n",
              "      <td>1</td>\n",
              "      <td>3</td>\n",
              "      <td>Heikkinen, Miss. Laina</td>\n",
              "      <td>female</td>\n",
              "      <td>26.0</td>\n",
              "      <td>0</td>\n",
              "      <td>0</td>\n",
              "      <td>STON/O2. 3101282</td>\n",
              "      <td>7.9250</td>\n",
              "      <td>NaN</td>\n",
              "      <td>S</td>\n",
              "    </tr>\n",
              "    <tr>\n",
              "      <th>3</th>\n",
              "      <td>4</td>\n",
              "      <td>1</td>\n",
              "      <td>1</td>\n",
              "      <td>Futrelle, Mrs. Jacques Heath (Lily May Peel)</td>\n",
              "      <td>female</td>\n",
              "      <td>35.0</td>\n",
              "      <td>1</td>\n",
              "      <td>0</td>\n",
              "      <td>113803</td>\n",
              "      <td>53.1000</td>\n",
              "      <td>C123</td>\n",
              "      <td>S</td>\n",
              "    </tr>\n",
              "    <tr>\n",
              "      <th>4</th>\n",
              "      <td>5</td>\n",
              "      <td>0</td>\n",
              "      <td>3</td>\n",
              "      <td>Allen, Mr. William Henry</td>\n",
              "      <td>male</td>\n",
              "      <td>35.0</td>\n",
              "      <td>0</td>\n",
              "      <td>0</td>\n",
              "      <td>373450</td>\n",
              "      <td>8.0500</td>\n",
              "      <td>NaN</td>\n",
              "      <td>S</td>\n",
              "    </tr>\n",
              "  </tbody>\n",
              "</table>\n",
              "</div>"
            ],
            "text/plain": [
              "   PassengerId  Survived  Pclass  ...     Fare Cabin  Embarked\n",
              "0            1         0       3  ...   7.2500   NaN         S\n",
              "1            2         1       1  ...  71.2833   C85         C\n",
              "2            3         1       3  ...   7.9250   NaN         S\n",
              "3            4         1       1  ...  53.1000  C123         S\n",
              "4            5         0       3  ...   8.0500   NaN         S\n",
              "\n",
              "[5 rows x 12 columns]"
            ]
          },
          "metadata": {
            "tags": []
          },
          "execution_count": 67
        }
      ]
    },
    {
      "cell_type": "code",
      "metadata": {
        "id": "5xYIRiEyZFSg",
        "outputId": "08999c36-4d29-4779-e6b5-be23518d4861",
        "colab": {
          "base_uri": "https://localhost:8080/",
          "height": 34
        }
      },
      "source": [
        "training_df.shape"
      ],
      "execution_count": 68,
      "outputs": [
        {
          "output_type": "execute_result",
          "data": {
            "text/plain": [
              "(891, 12)"
            ]
          },
          "metadata": {
            "tags": []
          },
          "execution_count": 68
        }
      ]
    },
    {
      "cell_type": "code",
      "metadata": {
        "id": "waxLbQQ2XE9B",
        "outputId": "bbe22cf9-e1e3-47c8-bf4d-80a2041f96c4",
        "colab": {
          "base_uri": "https://localhost:8080/",
          "height": 34
        }
      },
      "source": [
        "test_df.shape"
      ],
      "execution_count": 69,
      "outputs": [
        {
          "output_type": "execute_result",
          "data": {
            "text/plain": [
              "(418, 11)"
            ]
          },
          "metadata": {
            "tags": []
          },
          "execution_count": 69
        }
      ]
    },
    {
      "cell_type": "code",
      "metadata": {
        "id": "_pgmoyqOZGx2",
        "outputId": "6f6d9ed8-c2b6-4e67-afb6-f38c057b5397",
        "colab": {
          "base_uri": "https://localhost:8080/",
          "height": 68
        }
      },
      "source": [
        "training_df.columns"
      ],
      "execution_count": 70,
      "outputs": [
        {
          "output_type": "execute_result",
          "data": {
            "text/plain": [
              "Index(['PassengerId', 'Survived', 'Pclass', 'Name', 'Sex', 'Age', 'SibSp',\n",
              "       'Parch', 'Ticket', 'Fare', 'Cabin', 'Embarked'],\n",
              "      dtype='object')"
            ]
          },
          "metadata": {
            "tags": []
          },
          "execution_count": 70
        }
      ]
    },
    {
      "cell_type": "code",
      "metadata": {
        "id": "fdaqhM06Sojl",
        "outputId": "13ff57ce-1d48-45f0-e860-d4ebc610b2bc",
        "colab": {
          "base_uri": "https://localhost:8080/",
          "height": 238
        }
      },
      "source": [
        "training_df.isnull().sum()"
      ],
      "execution_count": 71,
      "outputs": [
        {
          "output_type": "execute_result",
          "data": {
            "text/plain": [
              "PassengerId      0\n",
              "Survived         0\n",
              "Pclass           0\n",
              "Name             0\n",
              "Sex              0\n",
              "Age            177\n",
              "SibSp            0\n",
              "Parch            0\n",
              "Ticket           0\n",
              "Fare             0\n",
              "Cabin          687\n",
              "Embarked         2\n",
              "dtype: int64"
            ]
          },
          "metadata": {
            "tags": []
          },
          "execution_count": 71
        }
      ]
    },
    {
      "cell_type": "code",
      "metadata": {
        "id": "5NFQFbKMBQp5"
      },
      "source": [
        "training_df = training_df.drop(['PassengerId','Name','Ticket'],1)"
      ],
      "execution_count": 72,
      "outputs": []
    },
    {
      "cell_type": "code",
      "metadata": {
        "id": "btigTSlY2aTK",
        "outputId": "02c48545-fb29-48dd-8252-e470f64c5d3d",
        "colab": {
          "base_uri": "https://localhost:8080/",
          "height": 68
        }
      },
      "source": [
        "training_df['Survived'].value_counts()"
      ],
      "execution_count": 73,
      "outputs": [
        {
          "output_type": "execute_result",
          "data": {
            "text/plain": [
              "0    549\n",
              "1    342\n",
              "Name: Survived, dtype: int64"
            ]
          },
          "metadata": {
            "tags": []
          },
          "execution_count": 73
        }
      ]
    },
    {
      "cell_type": "code",
      "metadata": {
        "id": "0XTwOhDs2nCB",
        "outputId": "947a2d08-caa0-4086-b0c7-0a8936fd8c1d",
        "colab": {
          "base_uri": "https://localhost:8080/",
          "height": 51
        }
      },
      "source": [
        "print(549+342)\n",
        "print(549/(549+342))"
      ],
      "execution_count": 74,
      "outputs": [
        {
          "output_type": "stream",
          "text": [
            "891\n",
            "0.6161616161616161\n"
          ],
          "name": "stdout"
        }
      ]
    },
    {
      "cell_type": "code",
      "metadata": {
        "id": "PXMi7ZA0SpQn",
        "outputId": "ee4be877-779b-42c3-9e49-215343093150",
        "colab": {
          "base_uri": "https://localhost:8080/",
          "height": 729
        }
      },
      "source": [
        "training_df.drop('Survived',1).hist(figsize=(10,10))"
      ],
      "execution_count": 75,
      "outputs": [
        {
          "output_type": "execute_result",
          "data": {
            "text/plain": [
              "array([[<matplotlib.axes._subplots.AxesSubplot object at 0x7fae8bff45f8>,\n",
              "        <matplotlib.axes._subplots.AxesSubplot object at 0x7fae859cfda0>],\n",
              "       [<matplotlib.axes._subplots.AxesSubplot object at 0x7fae85987550>,\n",
              "        <matplotlib.axes._subplots.AxesSubplot object at 0x7fae85932c88>],\n",
              "       [<matplotlib.axes._subplots.AxesSubplot object at 0x7fae8596b438>,\n",
              "        <matplotlib.axes._subplots.AxesSubplot object at 0x7fae85916ba8>]],\n",
              "      dtype=object)"
            ]
          },
          "metadata": {
            "tags": []
          },
          "execution_count": 75
        },
        {
          "output_type": "display_data",
          "data": {
            "image/png": "[encoded data removed]",
            "text/plain": [
              "<Figure size 720x720 with 6 Axes>"
            ]
          },
          "metadata": {
            "tags": [],
            "needs_background": "light"
          }
        }
      ]
    },
    {
      "cell_type": "code",
      "metadata": {
        "id": "wdgJeiP14nxg",
        "outputId": "8e79e911-4164-4bb4-937c-8bbf62d613bd",
        "colab": {
          "base_uri": "https://localhost:8080/",
          "height": 68
        }
      },
      "source": [
        "training_df['Sex'].value_counts()"
      ],
      "execution_count": 76,
      "outputs": [
        {
          "output_type": "execute_result",
          "data": {
            "text/plain": [
              "male      577\n",
              "female    314\n",
              "Name: Sex, dtype: int64"
            ]
          },
          "metadata": {
            "tags": []
          },
          "execution_count": 76
        }
      ]
    },
    {
      "cell_type": "code",
      "metadata": {
        "id": "ZbprScUZ5Iiv",
        "outputId": "81a9631a-b665-4b0e-e282-b90e7a7c8599",
        "colab": {
          "base_uri": "https://localhost:8080/",
          "height": 85
        }
      },
      "source": [
        "training_df['Embarked'].value_counts()"
      ],
      "execution_count": 77,
      "outputs": [
        {
          "output_type": "execute_result",
          "data": {
            "text/plain": [
              "S    644\n",
              "C    168\n",
              "Q     77\n",
              "Name: Embarked, dtype: int64"
            ]
          },
          "metadata": {
            "tags": []
          },
          "execution_count": 77
        }
      ]
    },
    {
      "cell_type": "code",
      "metadata": {
        "id": "RkZWePcB5QVm",
        "outputId": "b61233a7-84c6-468d-e39f-e322a454ff29",
        "colab": {
          "base_uri": "https://localhost:8080/",
          "height": 221
        }
      },
      "source": [
        "training_df['Cabin'].value_counts()"
      ],
      "execution_count": 78,
      "outputs": [
        {
          "output_type": "execute_result",
          "data": {
            "text/plain": [
              "C23 C25 C27    4\n",
              "G6             4\n",
              "B96 B98        4\n",
              "F2             3\n",
              "C22 C26        3\n",
              "              ..\n",
              "D11            1\n",
              "D28            1\n",
              "C7             1\n",
              "D45            1\n",
              "E49            1\n",
              "Name: Cabin, Length: 147, dtype: int64"
            ]
          },
          "metadata": {
            "tags": []
          },
          "execution_count": 78
        }
      ]
    },
    {
      "cell_type": "code",
      "metadata": {
        "id": "TlwGOQo0Sprs"
      },
      "source": [
        "training_df['Sex']=np.where(training_df['Sex']=='male',1,0)"
      ],
      "execution_count": 79,
      "outputs": []
    },
    {
      "cell_type": "code",
      "metadata": {
        "id": "uFAahJOXX7VA"
      },
      "source": [
        "test_df['Sex']=np.where(test_df['Sex']=='male',1,0)"
      ],
      "execution_count": 80,
      "outputs": []
    },
    {
      "cell_type": "code",
      "metadata": {
        "id": "Z0OOblOEEIsN",
        "outputId": "3fb67663-f9ad-456f-f443-e867d4dec15e",
        "colab": {
          "base_uri": "https://localhost:8080/",
          "height": 119
        }
      },
      "source": [
        "training_df['Sex'].head()"
      ],
      "execution_count": 81,
      "outputs": [
        {
          "output_type": "execute_result",
          "data": {
            "text/plain": [
              "0    1\n",
              "1    0\n",
              "2    0\n",
              "3    0\n",
              "4    1\n",
              "Name: Sex, dtype: int64"
            ]
          },
          "metadata": {
            "tags": []
          },
          "execution_count": 81
        }
      ]
    },
    {
      "cell_type": "code",
      "metadata": {
        "id": "oLInItFwbev0",
        "outputId": "b67b563a-94c0-4574-a629-cf3055b78a46",
        "colab": {
          "base_uri": "https://localhost:8080/",
          "height": 302
        }
      },
      "source": [
        "sns.barplot(x=\"Pclass\", y=\"Survived\", data=training_df)"
      ],
      "execution_count": 82,
      "outputs": [
        {
          "output_type": "execute_result",
          "data": {
            "text/plain": [
              "<matplotlib.axes._subplots.AxesSubplot at 0x7fae857e9f98>"
            ]
          },
          "metadata": {
            "tags": []
          },
          "execution_count": 82
        },
        {
          "output_type": "display_data",
          "data": {
            "image/png": "[encoded data removed]",
            "text/plain": [
              "<Figure size 432x288 with 1 Axes>"
            ]
          },
          "metadata": {
            "tags": [],
            "needs_background": "light"
          }
        }
      ]
    },
    {
      "cell_type": "code",
      "metadata": {
        "id": "YAisiQcCeEPW",
        "outputId": "ed25da8b-1ea2-448f-f7b4-61ecaa651ebe",
        "colab": {
          "base_uri": "https://localhost:8080/",
          "height": 302
        }
      },
      "source": [
        "sns.boxplot(y=\"Age\", x=\"Survived\", data=training_df)"
      ],
      "execution_count": 83,
      "outputs": [
        {
          "output_type": "execute_result",
          "data": {
            "text/plain": [
              "<matplotlib.axes._subplots.AxesSubplot at 0x7fae85744c18>"
            ]
          },
          "metadata": {
            "tags": []
          },
          "execution_count": 83
        },
        {
          "output_type": "display_data",
          "data": {
            "image/png": "[encoded data removed]",
            "text/plain": [
              "<Figure size 432x288 with 1 Axes>"
            ]
          },
          "metadata": {
            "tags": [],
            "needs_background": "light"
          }
        }
      ]
    },
    {
      "cell_type": "code",
      "metadata": {
        "id": "NYPaTFUFSqFg",
        "outputId": "6c250575-7038-414e-811b-8dbd4fac0244",
        "colab": {
          "base_uri": "https://localhost:8080/",
          "height": 545
        }
      },
      "source": [
        "training_df1=training_df.groupby([\"Pclass\",\"SibSp\"])\n",
        "training_df1_median=training_df1.median()\n",
        "training_df1_median"
      ],
      "execution_count": 84,
      "outputs": [
        {
          "output_type": "execute_result",
          "data": {
            "text/html": [
              "<div>\n",
              "<style scoped>\n",
              "    .dataframe tbody tr th:only-of-type {\n",
              "        vertical-align: middle;\n",
              "    }\n",
              "\n",
              "    .dataframe tbody tr th {\n",
              "        vertical-align: top;\n",
              "    }\n",
              "\n",
              "    .dataframe thead th {\n",
              "        text-align: right;\n",
              "    }\n",
              "</style>\n",
              "<table border=\"1\" class=\"dataframe\">\n",
              "  <thead>\n",
              "    <tr style=\"text-align: right;\">\n",
              "      <th></th>\n",
              "      <th></th>\n",
              "      <th>Survived</th>\n",
              "      <th>Sex</th>\n",
              "      <th>Age</th>\n",
              "      <th>Parch</th>\n",
              "      <th>Fare</th>\n",
              "    </tr>\n",
              "    <tr>\n",
              "      <th>Pclass</th>\n",
              "      <th>SibSp</th>\n",
              "      <th></th>\n",
              "      <th></th>\n",
              "      <th></th>\n",
              "      <th></th>\n",
              "      <th></th>\n",
              "    </tr>\n",
              "  </thead>\n",
              "  <tbody>\n",
              "    <tr>\n",
              "      <th rowspan=\"4\" valign=\"top\">1</th>\n",
              "      <th>0</th>\n",
              "      <td>1.0</td>\n",
              "      <td>1.0</td>\n",
              "      <td>37.0</td>\n",
              "      <td>0.0</td>\n",
              "      <td>39.6000</td>\n",
              "    </tr>\n",
              "    <tr>\n",
              "      <th>1</th>\n",
              "      <td>1.0</td>\n",
              "      <td>0.0</td>\n",
              "      <td>38.0</td>\n",
              "      <td>0.0</td>\n",
              "      <td>79.2000</td>\n",
              "    </tr>\n",
              "    <tr>\n",
              "      <th>2</th>\n",
              "      <td>1.0</td>\n",
              "      <td>0.0</td>\n",
              "      <td>44.0</td>\n",
              "      <td>0.0</td>\n",
              "      <td>133.6500</td>\n",
              "    </tr>\n",
              "    <tr>\n",
              "      <th>3</th>\n",
              "      <td>1.0</td>\n",
              "      <td>0.0</td>\n",
              "      <td>23.0</td>\n",
              "      <td>2.0</td>\n",
              "      <td>263.0000</td>\n",
              "    </tr>\n",
              "    <tr>\n",
              "      <th rowspan=\"4\" valign=\"top\">2</th>\n",
              "      <th>0</th>\n",
              "      <td>0.0</td>\n",
              "      <td>1.0</td>\n",
              "      <td>30.0</td>\n",
              "      <td>0.0</td>\n",
              "      <td>13.0000</td>\n",
              "    </tr>\n",
              "    <tr>\n",
              "      <th>1</th>\n",
              "      <td>1.0</td>\n",
              "      <td>0.0</td>\n",
              "      <td>29.0</td>\n",
              "      <td>1.0</td>\n",
              "      <td>26.0000</td>\n",
              "    </tr>\n",
              "    <tr>\n",
              "      <th>2</th>\n",
              "      <td>0.5</td>\n",
              "      <td>1.0</td>\n",
              "      <td>23.5</td>\n",
              "      <td>1.0</td>\n",
              "      <td>39.0000</td>\n",
              "    </tr>\n",
              "    <tr>\n",
              "      <th>3</th>\n",
              "      <td>1.0</td>\n",
              "      <td>0.0</td>\n",
              "      <td>30.0</td>\n",
              "      <td>0.0</td>\n",
              "      <td>21.0000</td>\n",
              "    </tr>\n",
              "    <tr>\n",
              "      <th rowspan=\"7\" valign=\"top\">3</th>\n",
              "      <th>0</th>\n",
              "      <td>0.0</td>\n",
              "      <td>1.0</td>\n",
              "      <td>26.0</td>\n",
              "      <td>0.0</td>\n",
              "      <td>7.8958</td>\n",
              "    </tr>\n",
              "    <tr>\n",
              "      <th>1</th>\n",
              "      <td>0.0</td>\n",
              "      <td>1.0</td>\n",
              "      <td>25.0</td>\n",
              "      <td>0.0</td>\n",
              "      <td>15.5500</td>\n",
              "    </tr>\n",
              "    <tr>\n",
              "      <th>2</th>\n",
              "      <td>0.0</td>\n",
              "      <td>1.0</td>\n",
              "      <td>19.5</td>\n",
              "      <td>0.0</td>\n",
              "      <td>19.2583</td>\n",
              "    </tr>\n",
              "    <tr>\n",
              "      <th>3</th>\n",
              "      <td>0.0</td>\n",
              "      <td>0.0</td>\n",
              "      <td>6.0</td>\n",
              "      <td>1.0</td>\n",
              "      <td>25.4667</td>\n",
              "    </tr>\n",
              "    <tr>\n",
              "      <th>4</th>\n",
              "      <td>0.0</td>\n",
              "      <td>1.0</td>\n",
              "      <td>6.5</td>\n",
              "      <td>1.5</td>\n",
              "      <td>31.2750</td>\n",
              "    </tr>\n",
              "    <tr>\n",
              "      <th>5</th>\n",
              "      <td>0.0</td>\n",
              "      <td>1.0</td>\n",
              "      <td>11.0</td>\n",
              "      <td>2.0</td>\n",
              "      <td>46.9000</td>\n",
              "    </tr>\n",
              "    <tr>\n",
              "      <th>8</th>\n",
              "      <td>0.0</td>\n",
              "      <td>1.0</td>\n",
              "      <td>NaN</td>\n",
              "      <td>2.0</td>\n",
              "      <td>69.5500</td>\n",
              "    </tr>\n",
              "  </tbody>\n",
              "</table>\n",
              "</div>"
            ],
            "text/plain": [
              "              Survived  Sex   Age  Parch      Fare\n",
              "Pclass SibSp                                      \n",
              "1      0           1.0  1.0  37.0    0.0   39.6000\n",
              "       1           1.0  0.0  38.0    0.0   79.2000\n",
              "       2           1.0  0.0  44.0    0.0  133.6500\n",
              "       3           1.0  0.0  23.0    2.0  263.0000\n",
              "2      0           0.0  1.0  30.0    0.0   13.0000\n",
              "       1           1.0  0.0  29.0    1.0   26.0000\n",
              "       2           0.5  1.0  23.5    1.0   39.0000\n",
              "       3           1.0  0.0  30.0    0.0   21.0000\n",
              "3      0           0.0  1.0  26.0    0.0    7.8958\n",
              "       1           0.0  1.0  25.0    0.0   15.5500\n",
              "       2           0.0  1.0  19.5    0.0   19.2583\n",
              "       3           0.0  0.0   6.0    1.0   25.4667\n",
              "       4           0.0  1.0   6.5    1.5   31.2750\n",
              "       5           0.0  1.0  11.0    2.0   46.9000\n",
              "       8           0.0  1.0   NaN    2.0   69.5500"
            ]
          },
          "metadata": {
            "tags": []
          },
          "execution_count": 84
        }
      ]
    },
    {
      "cell_type": "code",
      "metadata": {
        "id": "ejuxTfBxFj26",
        "outputId": "78663bd3-60f2-4648-fa44-eb8528048c5b",
        "colab": {
          "base_uri": "https://localhost:8080/",
          "height": 514
        }
      },
      "source": [
        "test_df1=test_df.groupby([\"Pclass\",\"SibSp\"])\n",
        "test_df1_median=test_df1.median()\n",
        "test_df1_median"
      ],
      "execution_count": 85,
      "outputs": [
        {
          "output_type": "execute_result",
          "data": {
            "text/html": [
              "<div>\n",
              "<style scoped>\n",
              "    .dataframe tbody tr th:only-of-type {\n",
              "        vertical-align: middle;\n",
              "    }\n",
              "\n",
              "    .dataframe tbody tr th {\n",
              "        vertical-align: top;\n",
              "    }\n",
              "\n",
              "    .dataframe thead th {\n",
              "        text-align: right;\n",
              "    }\n",
              "</style>\n",
              "<table border=\"1\" class=\"dataframe\">\n",
              "  <thead>\n",
              "    <tr style=\"text-align: right;\">\n",
              "      <th></th>\n",
              "      <th></th>\n",
              "      <th>PassengerId</th>\n",
              "      <th>Sex</th>\n",
              "      <th>Age</th>\n",
              "      <th>Parch</th>\n",
              "      <th>Fare</th>\n",
              "    </tr>\n",
              "    <tr>\n",
              "      <th>Pclass</th>\n",
              "      <th>SibSp</th>\n",
              "      <th></th>\n",
              "      <th></th>\n",
              "      <th></th>\n",
              "      <th></th>\n",
              "      <th></th>\n",
              "    </tr>\n",
              "  </thead>\n",
              "  <tbody>\n",
              "    <tr>\n",
              "      <th rowspan=\"4\" valign=\"top\">1</th>\n",
              "      <th>0</th>\n",
              "      <td>1088.0</td>\n",
              "      <td>1.0</td>\n",
              "      <td>39.0</td>\n",
              "      <td>0.0</td>\n",
              "      <td>42.50000</td>\n",
              "    </tr>\n",
              "    <tr>\n",
              "      <th>1</th>\n",
              "      <td>1109.5</td>\n",
              "      <td>0.5</td>\n",
              "      <td>46.0</td>\n",
              "      <td>0.0</td>\n",
              "      <td>82.06250</td>\n",
              "    </tr>\n",
              "    <tr>\n",
              "      <th>2</th>\n",
              "      <td>969.0</td>\n",
              "      <td>0.0</td>\n",
              "      <td>55.0</td>\n",
              "      <td>0.0</td>\n",
              "      <td>51.47920</td>\n",
              "    </tr>\n",
              "    <tr>\n",
              "      <th>3</th>\n",
              "      <td>945.0</td>\n",
              "      <td>0.0</td>\n",
              "      <td>28.0</td>\n",
              "      <td>2.0</td>\n",
              "      <td>263.00000</td>\n",
              "    </tr>\n",
              "    <tr>\n",
              "      <th rowspan=\"3\" valign=\"top\">2</th>\n",
              "      <th>0</th>\n",
              "      <td>1117.5</td>\n",
              "      <td>1.0</td>\n",
              "      <td>27.0</td>\n",
              "      <td>0.0</td>\n",
              "      <td>13.00000</td>\n",
              "    </tr>\n",
              "    <tr>\n",
              "      <th>1</th>\n",
              "      <td>1139.0</td>\n",
              "      <td>1.0</td>\n",
              "      <td>29.0</td>\n",
              "      <td>0.0</td>\n",
              "      <td>26.00000</td>\n",
              "    </tr>\n",
              "    <tr>\n",
              "      <th>2</th>\n",
              "      <td>1077.5</td>\n",
              "      <td>0.5</td>\n",
              "      <td>21.0</td>\n",
              "      <td>0.5</td>\n",
              "      <td>31.50000</td>\n",
              "    </tr>\n",
              "    <tr>\n",
              "      <th rowspan=\"7\" valign=\"top\">3</th>\n",
              "      <th>0</th>\n",
              "      <td>1095.5</td>\n",
              "      <td>1.0</td>\n",
              "      <td>24.0</td>\n",
              "      <td>0.0</td>\n",
              "      <td>7.82920</td>\n",
              "    </tr>\n",
              "    <tr>\n",
              "      <th>1</th>\n",
              "      <td>1084.0</td>\n",
              "      <td>0.0</td>\n",
              "      <td>20.0</td>\n",
              "      <td>1.0</td>\n",
              "      <td>15.24580</td>\n",
              "    </tr>\n",
              "    <tr>\n",
              "      <th>2</th>\n",
              "      <td>1059.0</td>\n",
              "      <td>1.0</td>\n",
              "      <td>19.5</td>\n",
              "      <td>0.0</td>\n",
              "      <td>21.67920</td>\n",
              "    </tr>\n",
              "    <tr>\n",
              "      <th>3</th>\n",
              "      <td>1281.0</td>\n",
              "      <td>1.0</td>\n",
              "      <td>29.0</td>\n",
              "      <td>1.0</td>\n",
              "      <td>21.07500</td>\n",
              "    </tr>\n",
              "    <tr>\n",
              "      <th>4</th>\n",
              "      <td>1076.0</td>\n",
              "      <td>1.0</td>\n",
              "      <td>11.5</td>\n",
              "      <td>2.0</td>\n",
              "      <td>30.25625</td>\n",
              "    </tr>\n",
              "    <tr>\n",
              "      <th>5</th>\n",
              "      <td>1032.0</td>\n",
              "      <td>0.0</td>\n",
              "      <td>10.0</td>\n",
              "      <td>2.0</td>\n",
              "      <td>46.90000</td>\n",
              "    </tr>\n",
              "    <tr>\n",
              "      <th>8</th>\n",
              "      <td>1166.0</td>\n",
              "      <td>0.5</td>\n",
              "      <td>14.5</td>\n",
              "      <td>2.0</td>\n",
              "      <td>69.55000</td>\n",
              "    </tr>\n",
              "  </tbody>\n",
              "</table>\n",
              "</div>"
            ],
            "text/plain": [
              "              PassengerId  Sex   Age  Parch       Fare\n",
              "Pclass SibSp                                          \n",
              "1      0           1088.0  1.0  39.0    0.0   42.50000\n",
              "       1           1109.5  0.5  46.0    0.0   82.06250\n",
              "       2            969.0  0.0  55.0    0.0   51.47920\n",
              "       3            945.0  0.0  28.0    2.0  263.00000\n",
              "2      0           1117.5  1.0  27.0    0.0   13.00000\n",
              "       1           1139.0  1.0  29.0    0.0   26.00000\n",
              "       2           1077.5  0.5  21.0    0.5   31.50000\n",
              "3      0           1095.5  1.0  24.0    0.0    7.82920\n",
              "       1           1084.0  0.0  20.0    1.0   15.24580\n",
              "       2           1059.0  1.0  19.5    0.0   21.67920\n",
              "       3           1281.0  1.0  29.0    1.0   21.07500\n",
              "       4           1076.0  1.0  11.5    2.0   30.25625\n",
              "       5           1032.0  0.0  10.0    2.0   46.90000\n",
              "       8           1166.0  0.5  14.5    2.0   69.55000"
            ]
          },
          "metadata": {
            "tags": []
          },
          "execution_count": 85
        }
      ]
    },
    {
      "cell_type": "code",
      "metadata": {
        "id": "Km0KbrFfSp46"
      },
      "source": [
        "def impute_age(dataset,dataset_med):\n",
        "    for x in range(len(dataset)):\n",
        "        if dataset[\"Pclass\"][x]==1:\n",
        "            if dataset[\"SibSp\"][x]==0:\n",
        "                return dataset_med.loc[1,0][\"Age\"]\n",
        "            elif dataset[\"SibSp\"][x]==1:\n",
        "                return dataset_med.loc[1,1][\"Age\"]\n",
        "            elif dataset[\"SibSp\"][x]==2:\n",
        "                return dataset_med.loc[1,2][\"Age\"]\n",
        "            elif dataset[\"SibSp\"][x]==3:\n",
        "                return dataset_med.loc[1,3][\"Age\"]\n",
        "        elif dataset[\"Pclass\"][x]==2:\n",
        "            if dataset[\"SibSp\"][x]==0:\n",
        "                return dataset_med.loc[2,0][\"Age\"]\n",
        "            elif dataset[\"SibSp\"][x]==1:\n",
        "                return dataset_med.loc[2,1][\"Age\"]\n",
        "            elif dataset[\"SibSp\"][x]==2:\n",
        "                return dataset_med.loc[2,2][\"Age\"]\n",
        "            elif dataset[\"SibSp\"][x]==3:\n",
        "                return dataset_med.loc[2,3][\"Age\"]\n",
        "        elif dataset[\"Pclass\"][x]==3:\n",
        "            if dataset[\"SibSp\"][x]==0:\n",
        "                return dataset_med.loc[3,0][\"Age\"]\n",
        "            elif dataset[\"SibSp\"][x]==1:\n",
        "                return dataset_med.loc[3,1][\"Age\"]\n",
        "            elif dataset[\"SibSp\"][x]==2:\n",
        "                return dataset_med.loc[3,2][\"Age\"]\n",
        "            elif dataset[\"SibSp\"][x]==3:\n",
        "                return dataset_med.loc[3,3][\"Age\"]\n",
        "            elif dataset[\"SibSp\"][x]==4:\n",
        "                return dataset_med.loc[3,4][\"Age\"]\n",
        "            elif dataset[\"SibSp\"][x]==5:\n",
        "                return dataset_med.loc[3,5][\"Age\"]\n",
        "            elif dataset[\"SibSp\"][x]==8:\n",
        "                return dataset_med.loc[3][\"Age\"].median()"
      ],
      "execution_count": 86,
      "outputs": []
    },
    {
      "cell_type": "code",
      "metadata": {
        "id": "xgPx6tmGSpfN"
      },
      "source": [
        "training_df[\"Age\"]=training_df[\"Age\"].fillna(impute_age(training_df,training_df1_median))\n",
        "test_df[\"Age\"]=test_df[\"Age\"].fillna(impute_age(test_df,test_df1_median))"
      ],
      "execution_count": 87,
      "outputs": []
    },
    {
      "cell_type": "code",
      "metadata": {
        "id": "82SoPyrOSpE_",
        "outputId": "50634609-b642-476b-c6f7-4423a8dc4104",
        "colab": {
          "base_uri": "https://localhost:8080/",
          "height": 408
        }
      },
      "source": [
        "print(training_df.isnull().sum()), print(test_df.isnull().sum())"
      ],
      "execution_count": 88,
      "outputs": [
        {
          "output_type": "stream",
          "text": [
            "Survived      0\n",
            "Pclass        0\n",
            "Sex           0\n",
            "Age           0\n",
            "SibSp         0\n",
            "Parch         0\n",
            "Fare          0\n",
            "Cabin       687\n",
            "Embarked      2\n",
            "dtype: int64\n",
            "PassengerId      0\n",
            "Pclass           0\n",
            "Name             0\n",
            "Sex              0\n",
            "Age              0\n",
            "SibSp            0\n",
            "Parch            0\n",
            "Ticket           0\n",
            "Fare             1\n",
            "Cabin          327\n",
            "Embarked         0\n",
            "dtype: int64\n"
          ],
          "name": "stdout"
        },
        {
          "output_type": "execute_result",
          "data": {
            "text/plain": [
              "(None, None)"
            ]
          },
          "metadata": {
            "tags": []
          },
          "execution_count": 88
        }
      ]
    },
    {
      "cell_type": "code",
      "metadata": {
        "id": "VHXbZuwFSoVu"
      },
      "source": [
        "training_df[\"Cabin\"]=training_df[\"Cabin\"].fillna(\"U\")\n",
        "test_df[\"Cabin\"]=test_df[\"Cabin\"].fillna(\"U\")\n",
        "training_df[\"Cabin\"]=training_df[\"Cabin\"].map(lambda x: x[0])\n",
        "test_df[\"Cabin\"]=test_df[\"Cabin\"].map(lambda x: x[0])"
      ],
      "execution_count": 89,
      "outputs": []
    },
    {
      "cell_type": "code",
      "metadata": {
        "id": "trsj5Jz1Fw1n",
        "outputId": "7a8a8e75-3717-4b83-c34c-4b06c4a3e7cd",
        "colab": {
          "base_uri": "https://localhost:8080/",
          "height": 119
        }
      },
      "source": [
        "training_df[\"Cabin\"].head()"
      ],
      "execution_count": 90,
      "outputs": [
        {
          "output_type": "execute_result",
          "data": {
            "text/plain": [
              "0    U\n",
              "1    C\n",
              "2    U\n",
              "3    C\n",
              "4    U\n",
              "Name: Cabin, dtype: object"
            ]
          },
          "metadata": {
            "tags": []
          },
          "execution_count": 90
        }
      ]
    },
    {
      "cell_type": "code",
      "metadata": {
        "id": "WAwGteFacIZ0",
        "outputId": "9600077d-d197-4060-d140-ad699a09cca3",
        "colab": {
          "base_uri": "https://localhost:8080/",
          "height": 187
        }
      },
      "source": [
        "training_df['Cabin'].value_counts()"
      ],
      "execution_count": 91,
      "outputs": [
        {
          "output_type": "execute_result",
          "data": {
            "text/plain": [
              "U    687\n",
              "C     59\n",
              "B     47\n",
              "D     33\n",
              "E     32\n",
              "A     15\n",
              "F     13\n",
              "G      4\n",
              "T      1\n",
              "Name: Cabin, dtype: int64"
            ]
          },
          "metadata": {
            "tags": []
          },
          "execution_count": 91
        }
      ]
    },
    {
      "cell_type": "code",
      "metadata": {
        "id": "MBtNB6pQFxJH",
        "outputId": "ea54008e-0a58-40fc-9834-5653671cafd9",
        "colab": {
          "base_uri": "https://localhost:8080/",
          "height": 204
        }
      },
      "source": [
        "training_df.head()"
      ],
      "execution_count": 92,
      "outputs": [
        {
          "output_type": "execute_result",
          "data": {
            "text/html": [
              "<div>\n",
              "<style scoped>\n",
              "    .dataframe tbody tr th:only-of-type {\n",
              "        vertical-align: middle;\n",
              "    }\n",
              "\n",
              "    .dataframe tbody tr th {\n",
              "        vertical-align: top;\n",
              "    }\n",
              "\n",
              "    .dataframe thead th {\n",
              "        text-align: right;\n",
              "    }\n",
              "</style>\n",
              "<table border=\"1\" class=\"dataframe\">\n",
              "  <thead>\n",
              "    <tr style=\"text-align: right;\">\n",
              "      <th></th>\n",
              "      <th>Survived</th>\n",
              "      <th>Pclass</th>\n",
              "      <th>Sex</th>\n",
              "      <th>Age</th>\n",
              "      <th>SibSp</th>\n",
              "      <th>Parch</th>\n",
              "      <th>Fare</th>\n",
              "      <th>Cabin</th>\n",
              "      <th>Embarked</th>\n",
              "    </tr>\n",
              "  </thead>\n",
              "  <tbody>\n",
              "    <tr>\n",
              "      <th>0</th>\n",
              "      <td>0</td>\n",
              "      <td>3</td>\n",
              "      <td>1</td>\n",
              "      <td>22.0</td>\n",
              "      <td>1</td>\n",
              "      <td>0</td>\n",
              "      <td>7.2500</td>\n",
              "      <td>U</td>\n",
              "      <td>S</td>\n",
              "    </tr>\n",
              "    <tr>\n",
              "      <th>1</th>\n",
              "      <td>1</td>\n",
              "      <td>1</td>\n",
              "      <td>0</td>\n",
              "      <td>38.0</td>\n",
              "      <td>1</td>\n",
              "      <td>0</td>\n",
              "      <td>71.2833</td>\n",
              "      <td>C</td>\n",
              "      <td>C</td>\n",
              "    </tr>\n",
              "    <tr>\n",
              "      <th>2</th>\n",
              "      <td>1</td>\n",
              "      <td>3</td>\n",
              "      <td>0</td>\n",
              "      <td>26.0</td>\n",
              "      <td>0</td>\n",
              "      <td>0</td>\n",
              "      <td>7.9250</td>\n",
              "      <td>U</td>\n",
              "      <td>S</td>\n",
              "    </tr>\n",
              "    <tr>\n",
              "      <th>3</th>\n",
              "      <td>1</td>\n",
              "      <td>1</td>\n",
              "      <td>0</td>\n",
              "      <td>35.0</td>\n",
              "      <td>1</td>\n",
              "      <td>0</td>\n",
              "      <td>53.1000</td>\n",
              "      <td>C</td>\n",
              "      <td>S</td>\n",
              "    </tr>\n",
              "    <tr>\n",
              "      <th>4</th>\n",
              "      <td>0</td>\n",
              "      <td>3</td>\n",
              "      <td>1</td>\n",
              "      <td>35.0</td>\n",
              "      <td>0</td>\n",
              "      <td>0</td>\n",
              "      <td>8.0500</td>\n",
              "      <td>U</td>\n",
              "      <td>S</td>\n",
              "    </tr>\n",
              "  </tbody>\n",
              "</table>\n",
              "</div>"
            ],
            "text/plain": [
              "   Survived  Pclass  Sex   Age  SibSp  Parch     Fare Cabin Embarked\n",
              "0         0       3    1  22.0      1      0   7.2500     U        S\n",
              "1         1       1    0  38.0      1      0  71.2833     C        C\n",
              "2         1       3    0  26.0      0      0   7.9250     U        S\n",
              "3         1       1    0  35.0      1      0  53.1000     C        S\n",
              "4         0       3    1  35.0      0      0   8.0500     U        S"
            ]
          },
          "metadata": {
            "tags": []
          },
          "execution_count": 92
        }
      ]
    },
    {
      "cell_type": "code",
      "metadata": {
        "id": "JTGSJ-YAFxdC",
        "outputId": "eedcb5c8-feda-4238-e7b4-894cd072d01e",
        "colab": {
          "base_uri": "https://localhost:8080/",
          "height": 34
        }
      },
      "source": [
        "training_df.shape"
      ],
      "execution_count": 93,
      "outputs": [
        {
          "output_type": "execute_result",
          "data": {
            "text/plain": [
              "(891, 9)"
            ]
          },
          "metadata": {
            "tags": []
          },
          "execution_count": 93
        }
      ]
    },
    {
      "cell_type": "code",
      "metadata": {
        "id": "CN9l2FNvFxlu",
        "outputId": "9f06f239-d931-4c26-90cb-afab3bafd6b0",
        "colab": {
          "base_uri": "https://localhost:8080/",
          "height": 289
        }
      },
      "source": [
        "training_df.info()"
      ],
      "execution_count": 94,
      "outputs": [
        {
          "output_type": "stream",
          "text": [
            "<class 'pandas.core.frame.DataFrame'>\n",
            "RangeIndex: 891 entries, 0 to 890\n",
            "Data columns (total 9 columns):\n",
            " #   Column    Non-Null Count  Dtype  \n",
            "---  ------    --------------  -----  \n",
            " 0   Survived  891 non-null    int64  \n",
            " 1   Pclass    891 non-null    int64  \n",
            " 2   Sex       891 non-null    int64  \n",
            " 3   Age       891 non-null    float64\n",
            " 4   SibSp     891 non-null    int64  \n",
            " 5   Parch     891 non-null    int64  \n",
            " 6   Fare      891 non-null    float64\n",
            " 7   Cabin     891 non-null    object \n",
            " 8   Embarked  889 non-null    object \n",
            "dtypes: float64(2), int64(5), object(2)\n",
            "memory usage: 62.8+ KB\n"
          ],
          "name": "stdout"
        }
      ]
    },
    {
      "cell_type": "code",
      "metadata": {
        "id": "fkzPtz5oFxQ2"
      },
      "source": [
        "def cabin_assignment(dataset):\n",
        "    dataset[\"Cabin A\"]=np.where(dataset[\"Cabin\"]==\"A\",1,0)\n",
        "    dataset[\"Cabin B\"]=np.where(dataset[\"Cabin\"]==\"B\",1,0)\n",
        "    dataset[\"Cabin C\"]=np.where(dataset[\"Cabin\"]==\"C\",1,0)\n",
        "    dataset[\"Cabin D\"]=np.where(dataset[\"Cabin\"]==\"D\",1,0)\n",
        "    dataset[\"Cabin E\"]=np.where(dataset[\"Cabin\"]==\"E\",1,0)\n",
        "    dataset[\"Cabin F\"]=np.where(dataset[\"Cabin\"]==\"F\",1,0)\n",
        "    dataset[\"Cabin G\"]=np.where(dataset[\"Cabin\"]==\"G\",1,0)\n",
        "    dataset[\"Cabin T\"]=np.where(dataset[\"Cabin\"]==\"T\",1,0)"
      ],
      "execution_count": 95,
      "outputs": []
    },
    {
      "cell_type": "code",
      "metadata": {
        "id": "0ET7MRgcFw79"
      },
      "source": [
        "cabin_assignment(training_df)\n",
        "cabin_assignment(test_df)"
      ],
      "execution_count": 96,
      "outputs": []
    },
    {
      "cell_type": "code",
      "metadata": {
        "id": "1-490C4hFw6e",
        "outputId": "ed4113a9-6a3b-48ff-dac3-bcc9838c46f1",
        "colab": {
          "base_uri": "https://localhost:8080/",
          "height": 425
        }
      },
      "source": [
        "training_df.info()"
      ],
      "execution_count": 97,
      "outputs": [
        {
          "output_type": "stream",
          "text": [
            "<class 'pandas.core.frame.DataFrame'>\n",
            "RangeIndex: 891 entries, 0 to 890\n",
            "Data columns (total 17 columns):\n",
            " #   Column    Non-Null Count  Dtype  \n",
            "---  ------    --------------  -----  \n",
            " 0   Survived  891 non-null    int64  \n",
            " 1   Pclass    891 non-null    int64  \n",
            " 2   Sex       891 non-null    int64  \n",
            " 3   Age       891 non-null    float64\n",
            " 4   SibSp     891 non-null    int64  \n",
            " 5   Parch     891 non-null    int64  \n",
            " 6   Fare      891 non-null    float64\n",
            " 7   Cabin     891 non-null    object \n",
            " 8   Embarked  889 non-null    object \n",
            " 9   Cabin A   891 non-null    int64  \n",
            " 10  Cabin B   891 non-null    int64  \n",
            " 11  Cabin C   891 non-null    int64  \n",
            " 12  Cabin D   891 non-null    int64  \n",
            " 13  Cabin E   891 non-null    int64  \n",
            " 14  Cabin F   891 non-null    int64  \n",
            " 15  Cabin G   891 non-null    int64  \n",
            " 16  Cabin T   891 non-null    int64  \n",
            "dtypes: float64(2), int64(13), object(2)\n",
            "memory usage: 118.5+ KB\n"
          ],
          "name": "stdout"
        }
      ]
    },
    {
      "cell_type": "code",
      "metadata": {
        "id": "c7EgF31-Fwoo",
        "outputId": "96a7842d-58e0-4e0f-d133-27c75c7805be",
        "colab": {
          "base_uri": "https://localhost:8080/",
          "height": 459
        }
      },
      "source": [
        "test_df.info()"
      ],
      "execution_count": 98,
      "outputs": [
        {
          "output_type": "stream",
          "text": [
            "<class 'pandas.core.frame.DataFrame'>\n",
            "RangeIndex: 418 entries, 0 to 417\n",
            "Data columns (total 19 columns):\n",
            " #   Column       Non-Null Count  Dtype  \n",
            "---  ------       --------------  -----  \n",
            " 0   PassengerId  418 non-null    int64  \n",
            " 1   Pclass       418 non-null    int64  \n",
            " 2   Name         418 non-null    object \n",
            " 3   Sex          418 non-null    int64  \n",
            " 4   Age          418 non-null    float64\n",
            " 5   SibSp        418 non-null    int64  \n",
            " 6   Parch        418 non-null    int64  \n",
            " 7   Ticket       418 non-null    object \n",
            " 8   Fare         417 non-null    float64\n",
            " 9   Cabin        418 non-null    object \n",
            " 10  Embarked     418 non-null    object \n",
            " 11  Cabin A      418 non-null    int64  \n",
            " 12  Cabin B      418 non-null    int64  \n",
            " 13  Cabin C      418 non-null    int64  \n",
            " 14  Cabin D      418 non-null    int64  \n",
            " 15  Cabin E      418 non-null    int64  \n",
            " 16  Cabin F      418 non-null    int64  \n",
            " 17  Cabin G      418 non-null    int64  \n",
            " 18  Cabin T      418 non-null    int64  \n",
            "dtypes: float64(2), int64(13), object(4)\n",
            "memory usage: 62.2+ KB\n"
          ],
          "name": "stdout"
        }
      ]
    },
    {
      "cell_type": "code",
      "metadata": {
        "id": "ukWMmW64GQBC"
      },
      "source": [
        "training_df[\"Embarked\"]=training_df[\"Embarked\"].fillna(\"S\")"
      ],
      "execution_count": 99,
      "outputs": []
    },
    {
      "cell_type": "code",
      "metadata": {
        "id": "vukj2p7lGQdB",
        "outputId": "793ac359-fa16-492c-f1af-e6aca1ba660c",
        "colab": {
          "base_uri": "https://localhost:8080/",
          "height": 34
        }
      },
      "source": [
        "training_df[\"Embarked\"].isnull().sum()"
      ],
      "execution_count": 100,
      "outputs": [
        {
          "output_type": "execute_result",
          "data": {
            "text/plain": [
              "0"
            ]
          },
          "metadata": {
            "tags": []
          },
          "execution_count": 100
        }
      ]
    },
    {
      "cell_type": "code",
      "metadata": {
        "id": "8hgmOz4qGRDh"
      },
      "source": [
        "def embark_assignment(dataset):\n",
        "    dataset[\"Embarked S\"]=np.where(dataset[\"Embarked\"]==\"S\",1,0)\n",
        "    dataset[\"Embarked C\"]=np.where(dataset[\"Embarked\"]==\"C\",1,0)"
      ],
      "execution_count": 101,
      "outputs": []
    },
    {
      "cell_type": "code",
      "metadata": {
        "id": "y71T9kLMGRSK"
      },
      "source": [
        "embark_assignment(training_df)\n",
        "embark_assignment(test_df)"
      ],
      "execution_count": 102,
      "outputs": []
    },
    {
      "cell_type": "code",
      "metadata": {
        "id": "lA3sRHQbGQ3F"
      },
      "source": [
        "test_df[\"Fare\"]=test_df[\"Fare\"].fillna(np.mean(test_df[\"Fare\"]))"
      ],
      "execution_count": 103,
      "outputs": []
    },
    {
      "cell_type": "code",
      "metadata": {
        "id": "ovkvNDLrGQOM",
        "outputId": "7ebbf1ab-cc3b-4b03-da82-09ea88ef95ae",
        "colab": {
          "base_uri": "https://localhost:8080/",
          "height": 34
        }
      },
      "source": [
        "test_df[\"Fare\"].isnull().sum()"
      ],
      "execution_count": 104,
      "outputs": [
        {
          "output_type": "execute_result",
          "data": {
            "text/plain": [
              "0"
            ]
          },
          "metadata": {
            "tags": []
          },
          "execution_count": 104
        }
      ]
    },
    {
      "cell_type": "code",
      "metadata": {
        "id": "QSfBx5Y0GP1l"
      },
      "source": [
        "training_df[\"FamilySize\"] = training_df[\"SibSp\"] + training_df[\"Parch\"] + 1\n",
        "test_df[\"FamilySize\"] = test_df[\"SibSp\"] + test_df[\"Parch\"] + 1"
      ],
      "execution_count": 105,
      "outputs": []
    },
    {
      "cell_type": "code",
      "metadata": {
        "id": "jWmqK9cEgSQz",
        "outputId": "7a7a5a00-b165-467a-a603-bc5475e75d15",
        "colab": {
          "base_uri": "https://localhost:8080/",
          "height": 302
        }
      },
      "source": [
        "sns.violinplot(y=\"FamilySize\", x=\"Survived\", data=training_df)"
      ],
      "execution_count": 106,
      "outputs": [
        {
          "output_type": "execute_result",
          "data": {
            "text/plain": [
              "<matplotlib.axes._subplots.AxesSubplot at 0x7fae856c9198>"
            ]
          },
          "metadata": {
            "tags": []
          },
          "execution_count": 106
        },
        {
          "output_type": "display_data",
          "data": {
            "image/png": "[encoded data removed]",
            "text/plain": [
              "<Figure size 432x288 with 1 Axes>"
            ]
          },
          "metadata": {
            "tags": [],
            "needs_background": "light"
          }
        }
      ]
    },
    {
      "cell_type": "code",
      "metadata": {
        "id": "JMvT-AiXFvh7",
        "outputId": "861e9c51-42ff-42fd-8e45-9a1fcb948c1b",
        "colab": {
          "base_uri": "https://localhost:8080/",
          "height": 221
        }
      },
      "source": [
        "training_df.head()"
      ],
      "execution_count": 107,
      "outputs": [
        {
          "output_type": "execute_result",
          "data": {
            "text/html": [
              "<div>\n",
              "<style scoped>\n",
              "    .dataframe tbody tr th:only-of-type {\n",
              "        vertical-align: middle;\n",
              "    }\n",
              "\n",
              "    .dataframe tbody tr th {\n",
              "        vertical-align: top;\n",
              "    }\n",
              "\n",
              "    .dataframe thead th {\n",
              "        text-align: right;\n",
              "    }\n",
              "</style>\n",
              "<table border=\"1\" class=\"dataframe\">\n",
              "  <thead>\n",
              "    <tr style=\"text-align: right;\">\n",
              "      <th></th>\n",
              "      <th>Survived</th>\n",
              "      <th>Pclass</th>\n",
              "      <th>Sex</th>\n",
              "      <th>Age</th>\n",
              "      <th>SibSp</th>\n",
              "      <th>Parch</th>\n",
              "      <th>Fare</th>\n",
              "      <th>Cabin</th>\n",
              "      <th>Embarked</th>\n",
              "      <th>Cabin A</th>\n",
              "      <th>Cabin B</th>\n",
              "      <th>Cabin C</th>\n",
              "      <th>Cabin D</th>\n",
              "      <th>Cabin E</th>\n",
              "      <th>Cabin F</th>\n",
              "      <th>Cabin G</th>\n",
              "      <th>Cabin T</th>\n",
              "      <th>Embarked S</th>\n",
              "      <th>Embarked C</th>\n",
              "      <th>FamilySize</th>\n",
              "    </tr>\n",
              "  </thead>\n",
              "  <tbody>\n",
              "    <tr>\n",
              "      <th>0</th>\n",
              "      <td>0</td>\n",
              "      <td>3</td>\n",
              "      <td>1</td>\n",
              "      <td>22.0</td>\n",
              "      <td>1</td>\n",
              "      <td>0</td>\n",
              "      <td>7.2500</td>\n",
              "      <td>U</td>\n",
              "      <td>S</td>\n",
              "      <td>0</td>\n",
              "      <td>0</td>\n",
              "      <td>0</td>\n",
              "      <td>0</td>\n",
              "      <td>0</td>\n",
              "      <td>0</td>\n",
              "      <td>0</td>\n",
              "      <td>0</td>\n",
              "      <td>1</td>\n",
              "      <td>0</td>\n",
              "      <td>2</td>\n",
              "    </tr>\n",
              "    <tr>\n",
              "      <th>1</th>\n",
              "      <td>1</td>\n",
              "      <td>1</td>\n",
              "      <td>0</td>\n",
              "      <td>38.0</td>\n",
              "      <td>1</td>\n",
              "      <td>0</td>\n",
              "      <td>71.2833</td>\n",
              "      <td>C</td>\n",
              "      <td>C</td>\n",
              "      <td>0</td>\n",
              "      <td>0</td>\n",
              "      <td>1</td>\n",
              "      <td>0</td>\n",
              "      <td>0</td>\n",
              "      <td>0</td>\n",
              "      <td>0</td>\n",
              "      <td>0</td>\n",
              "      <td>0</td>\n",
              "      <td>1</td>\n",
              "      <td>2</td>\n",
              "    </tr>\n",
              "    <tr>\n",
              "      <th>2</th>\n",
              "      <td>1</td>\n",
              "      <td>3</td>\n",
              "      <td>0</td>\n",
              "      <td>26.0</td>\n",
              "      <td>0</td>\n",
              "      <td>0</td>\n",
              "      <td>7.9250</td>\n",
              "      <td>U</td>\n",
              "      <td>S</td>\n",
              "      <td>0</td>\n",
              "      <td>0</td>\n",
              "      <td>0</td>\n",
              "      <td>0</td>\n",
              "      <td>0</td>\n",
              "      <td>0</td>\n",
              "      <td>0</td>\n",
              "      <td>0</td>\n",
              "      <td>1</td>\n",
              "      <td>0</td>\n",
              "      <td>1</td>\n",
              "    </tr>\n",
              "    <tr>\n",
              "      <th>3</th>\n",
              "      <td>1</td>\n",
              "      <td>1</td>\n",
              "      <td>0</td>\n",
              "      <td>35.0</td>\n",
              "      <td>1</td>\n",
              "      <td>0</td>\n",
              "      <td>53.1000</td>\n",
              "      <td>C</td>\n",
              "      <td>S</td>\n",
              "      <td>0</td>\n",
              "      <td>0</td>\n",
              "      <td>1</td>\n",
              "      <td>0</td>\n",
              "      <td>0</td>\n",
              "      <td>0</td>\n",
              "      <td>0</td>\n",
              "      <td>0</td>\n",
              "      <td>1</td>\n",
              "      <td>0</td>\n",
              "      <td>2</td>\n",
              "    </tr>\n",
              "    <tr>\n",
              "      <th>4</th>\n",
              "      <td>0</td>\n",
              "      <td>3</td>\n",
              "      <td>1</td>\n",
              "      <td>35.0</td>\n",
              "      <td>0</td>\n",
              "      <td>0</td>\n",
              "      <td>8.0500</td>\n",
              "      <td>U</td>\n",
              "      <td>S</td>\n",
              "      <td>0</td>\n",
              "      <td>0</td>\n",
              "      <td>0</td>\n",
              "      <td>0</td>\n",
              "      <td>0</td>\n",
              "      <td>0</td>\n",
              "      <td>0</td>\n",
              "      <td>0</td>\n",
              "      <td>1</td>\n",
              "      <td>0</td>\n",
              "      <td>1</td>\n",
              "    </tr>\n",
              "  </tbody>\n",
              "</table>\n",
              "</div>"
            ],
            "text/plain": [
              "   Survived  Pclass  Sex   Age  ...  Cabin T  Embarked S  Embarked C FamilySize\n",
              "0         0       3    1  22.0  ...        0           1           0          2\n",
              "1         1       1    0  38.0  ...        0           0           1          2\n",
              "2         1       3    0  26.0  ...        0           1           0          1\n",
              "3         1       1    0  35.0  ...        0           1           0          2\n",
              "4         0       3    1  35.0  ...        0           1           0          1\n",
              "\n",
              "[5 rows x 20 columns]"
            ]
          },
          "metadata": {
            "tags": []
          },
          "execution_count": 107
        }
      ]
    },
    {
      "cell_type": "code",
      "metadata": {
        "id": "CgiGgd9SGlpc",
        "outputId": "ccb8532d-1445-4ffd-debd-f199d3361a54",
        "colab": {
          "base_uri": "https://localhost:8080/",
          "height": 476
        }
      },
      "source": [
        "training_df.info()"
      ],
      "execution_count": 108,
      "outputs": [
        {
          "output_type": "stream",
          "text": [
            "<class 'pandas.core.frame.DataFrame'>\n",
            "RangeIndex: 891 entries, 0 to 890\n",
            "Data columns (total 20 columns):\n",
            " #   Column      Non-Null Count  Dtype  \n",
            "---  ------      --------------  -----  \n",
            " 0   Survived    891 non-null    int64  \n",
            " 1   Pclass      891 non-null    int64  \n",
            " 2   Sex         891 non-null    int64  \n",
            " 3   Age         891 non-null    float64\n",
            " 4   SibSp       891 non-null    int64  \n",
            " 5   Parch       891 non-null    int64  \n",
            " 6   Fare        891 non-null    float64\n",
            " 7   Cabin       891 non-null    object \n",
            " 8   Embarked    891 non-null    object \n",
            " 9   Cabin A     891 non-null    int64  \n",
            " 10  Cabin B     891 non-null    int64  \n",
            " 11  Cabin C     891 non-null    int64  \n",
            " 12  Cabin D     891 non-null    int64  \n",
            " 13  Cabin E     891 non-null    int64  \n",
            " 14  Cabin F     891 non-null    int64  \n",
            " 15  Cabin G     891 non-null    int64  \n",
            " 16  Cabin T     891 non-null    int64  \n",
            " 17  Embarked S  891 non-null    int64  \n",
            " 18  Embarked C  891 non-null    int64  \n",
            " 19  FamilySize  891 non-null    int64  \n",
            "dtypes: float64(2), int64(16), object(2)\n",
            "memory usage: 139.3+ KB\n"
          ],
          "name": "stdout"
        }
      ]
    },
    {
      "cell_type": "code",
      "metadata": {
        "id": "Ki8z_kPSYpGF",
        "outputId": "9611fc9b-af87-49cf-ffea-6b25b985434a",
        "colab": {
          "base_uri": "https://localhost:8080/",
          "height": 510
        }
      },
      "source": [
        "test_df.info()"
      ],
      "execution_count": 109,
      "outputs": [
        {
          "output_type": "stream",
          "text": [
            "<class 'pandas.core.frame.DataFrame'>\n",
            "RangeIndex: 418 entries, 0 to 417\n",
            "Data columns (total 22 columns):\n",
            " #   Column       Non-Null Count  Dtype  \n",
            "---  ------       --------------  -----  \n",
            " 0   PassengerId  418 non-null    int64  \n",
            " 1   Pclass       418 non-null    int64  \n",
            " 2   Name         418 non-null    object \n",
            " 3   Sex          418 non-null    int64  \n",
            " 4   Age          418 non-null    float64\n",
            " 5   SibSp        418 non-null    int64  \n",
            " 6   Parch        418 non-null    int64  \n",
            " 7   Ticket       418 non-null    object \n",
            " 8   Fare         418 non-null    float64\n",
            " 9   Cabin        418 non-null    object \n",
            " 10  Embarked     418 non-null    object \n",
            " 11  Cabin A      418 non-null    int64  \n",
            " 12  Cabin B      418 non-null    int64  \n",
            " 13  Cabin C      418 non-null    int64  \n",
            " 14  Cabin D      418 non-null    int64  \n",
            " 15  Cabin E      418 non-null    int64  \n",
            " 16  Cabin F      418 non-null    int64  \n",
            " 17  Cabin G      418 non-null    int64  \n",
            " 18  Cabin T      418 non-null    int64  \n",
            " 19  Embarked S   418 non-null    int64  \n",
            " 20  Embarked C   418 non-null    int64  \n",
            " 21  FamilySize   418 non-null    int64  \n",
            "dtypes: float64(2), int64(16), object(4)\n",
            "memory usage: 72.0+ KB\n"
          ],
          "name": "stdout"
        }
      ]
    },
    {
      "cell_type": "code",
      "metadata": {
        "id": "ao6hHmFfIPvT"
      },
      "source": [
        "training_df.drop([\"Embarked\",\"Cabin\",\"SibSp\",\"Parch\"],inplace=True,axis=1)\n",
        "test_df.drop([\"Name\",\"Ticket\",\"Embarked\",\"Cabin\",\"SibSp\",\"Parch\"],inplace=True,axis=1)"
      ],
      "execution_count": 110,
      "outputs": []
    },
    {
      "cell_type": "code",
      "metadata": {
        "id": "Z4eCz_w1Z7iC"
      },
      "source": [
        "test_df_predict = test_df.copy().drop('PassengerId',1)\n",
        "test_df_submit = test_df['PassengerId']"
      ],
      "execution_count": 111,
      "outputs": []
    },
    {
      "cell_type": "code",
      "metadata": {
        "id": "ndrSLK1JaB43",
        "outputId": "2c01d84d-b2e0-4725-8d66-a506099e064e",
        "colab": {
          "base_uri": "https://localhost:8080/",
          "height": 204
        }
      },
      "source": [
        "test_df_predict.head()"
      ],
      "execution_count": 112,
      "outputs": [
        {
          "output_type": "execute_result",
          "data": {
            "text/html": [
              "<div>\n",
              "<style scoped>\n",
              "    .dataframe tbody tr th:only-of-type {\n",
              "        vertical-align: middle;\n",
              "    }\n",
              "\n",
              "    .dataframe tbody tr th {\n",
              "        vertical-align: top;\n",
              "    }\n",
              "\n",
              "    .dataframe thead th {\n",
              "        text-align: right;\n",
              "    }\n",
              "</style>\n",
              "<table border=\"1\" class=\"dataframe\">\n",
              "  <thead>\n",
              "    <tr style=\"text-align: right;\">\n",
              "      <th></th>\n",
              "      <th>Pclass</th>\n",
              "      <th>Sex</th>\n",
              "      <th>Age</th>\n",
              "      <th>Fare</th>\n",
              "      <th>Cabin A</th>\n",
              "      <th>Cabin B</th>\n",
              "      <th>Cabin C</th>\n",
              "      <th>Cabin D</th>\n",
              "      <th>Cabin E</th>\n",
              "      <th>Cabin F</th>\n",
              "      <th>Cabin G</th>\n",
              "      <th>Cabin T</th>\n",
              "      <th>Embarked S</th>\n",
              "      <th>Embarked C</th>\n",
              "      <th>FamilySize</th>\n",
              "    </tr>\n",
              "  </thead>\n",
              "  <tbody>\n",
              "    <tr>\n",
              "      <th>0</th>\n",
              "      <td>3</td>\n",
              "      <td>1</td>\n",
              "      <td>34.5</td>\n",
              "      <td>7.8292</td>\n",
              "      <td>0</td>\n",
              "      <td>0</td>\n",
              "      <td>0</td>\n",
              "      <td>0</td>\n",
              "      <td>0</td>\n",
              "      <td>0</td>\n",
              "      <td>0</td>\n",
              "      <td>0</td>\n",
              "      <td>0</td>\n",
              "      <td>0</td>\n",
              "      <td>1</td>\n",
              "    </tr>\n",
              "    <tr>\n",
              "      <th>1</th>\n",
              "      <td>3</td>\n",
              "      <td>0</td>\n",
              "      <td>47.0</td>\n",
              "      <td>7.0000</td>\n",
              "      <td>0</td>\n",
              "      <td>0</td>\n",
              "      <td>0</td>\n",
              "      <td>0</td>\n",
              "      <td>0</td>\n",
              "      <td>0</td>\n",
              "      <td>0</td>\n",
              "      <td>0</td>\n",
              "      <td>1</td>\n",
              "      <td>0</td>\n",
              "      <td>2</td>\n",
              "    </tr>\n",
              "    <tr>\n",
              "      <th>2</th>\n",
              "      <td>2</td>\n",
              "      <td>1</td>\n",
              "      <td>62.0</td>\n",
              "      <td>9.6875</td>\n",
              "      <td>0</td>\n",
              "      <td>0</td>\n",
              "      <td>0</td>\n",
              "      <td>0</td>\n",
              "      <td>0</td>\n",
              "      <td>0</td>\n",
              "      <td>0</td>\n",
              "      <td>0</td>\n",
              "      <td>0</td>\n",
              "      <td>0</td>\n",
              "      <td>1</td>\n",
              "    </tr>\n",
              "    <tr>\n",
              "      <th>3</th>\n",
              "      <td>3</td>\n",
              "      <td>1</td>\n",
              "      <td>27.0</td>\n",
              "      <td>8.6625</td>\n",
              "      <td>0</td>\n",
              "      <td>0</td>\n",
              "      <td>0</td>\n",
              "      <td>0</td>\n",
              "      <td>0</td>\n",
              "      <td>0</td>\n",
              "      <td>0</td>\n",
              "      <td>0</td>\n",
              "      <td>1</td>\n",
              "      <td>0</td>\n",
              "      <td>1</td>\n",
              "    </tr>\n",
              "    <tr>\n",
              "      <th>4</th>\n",
              "      <td>3</td>\n",
              "      <td>0</td>\n",
              "      <td>22.0</td>\n",
              "      <td>12.2875</td>\n",
              "      <td>0</td>\n",
              "      <td>0</td>\n",
              "      <td>0</td>\n",
              "      <td>0</td>\n",
              "      <td>0</td>\n",
              "      <td>0</td>\n",
              "      <td>0</td>\n",
              "      <td>0</td>\n",
              "      <td>1</td>\n",
              "      <td>0</td>\n",
              "      <td>3</td>\n",
              "    </tr>\n",
              "  </tbody>\n",
              "</table>\n",
              "</div>"
            ],
            "text/plain": [
              "   Pclass  Sex   Age     Fare  ...  Cabin T  Embarked S  Embarked C  FamilySize\n",
              "0       3    1  34.5   7.8292  ...        0           0           0           1\n",
              "1       3    0  47.0   7.0000  ...        0           1           0           2\n",
              "2       2    1  62.0   9.6875  ...        0           0           0           1\n",
              "3       3    1  27.0   8.6625  ...        0           1           0           1\n",
              "4       3    0  22.0  12.2875  ...        0           1           0           3\n",
              "\n",
              "[5 rows x 15 columns]"
            ]
          },
          "metadata": {
            "tags": []
          },
          "execution_count": 112
        }
      ]
    },
    {
      "cell_type": "code",
      "metadata": {
        "id": "kHOmP7a0ITNj",
        "outputId": "e04076d0-9ea2-401a-c14e-aea796d7ec1b",
        "colab": {
          "base_uri": "https://localhost:8080/",
          "height": 204
        }
      },
      "source": [
        "training_df.tail()"
      ],
      "execution_count": 113,
      "outputs": [
        {
          "output_type": "execute_result",
          "data": {
            "text/html": [
              "<div>\n",
              "<style scoped>\n",
              "    .dataframe tbody tr th:only-of-type {\n",
              "        vertical-align: middle;\n",
              "    }\n",
              "\n",
              "    .dataframe tbody tr th {\n",
              "        vertical-align: top;\n",
              "    }\n",
              "\n",
              "    .dataframe thead th {\n",
              "        text-align: right;\n",
              "    }\n",
              "</style>\n",
              "<table border=\"1\" class=\"dataframe\">\n",
              "  <thead>\n",
              "    <tr style=\"text-align: right;\">\n",
              "      <th></th>\n",
              "      <th>Survived</th>\n",
              "      <th>Pclass</th>\n",
              "      <th>Sex</th>\n",
              "      <th>Age</th>\n",
              "      <th>Fare</th>\n",
              "      <th>Cabin A</th>\n",
              "      <th>Cabin B</th>\n",
              "      <th>Cabin C</th>\n",
              "      <th>Cabin D</th>\n",
              "      <th>Cabin E</th>\n",
              "      <th>Cabin F</th>\n",
              "      <th>Cabin G</th>\n",
              "      <th>Cabin T</th>\n",
              "      <th>Embarked S</th>\n",
              "      <th>Embarked C</th>\n",
              "      <th>FamilySize</th>\n",
              "    </tr>\n",
              "  </thead>\n",
              "  <tbody>\n",
              "    <tr>\n",
              "      <th>886</th>\n",
              "      <td>0</td>\n",
              "      <td>2</td>\n",
              "      <td>1</td>\n",
              "      <td>27.0</td>\n",
              "      <td>13.00</td>\n",
              "      <td>0</td>\n",
              "      <td>0</td>\n",
              "      <td>0</td>\n",
              "      <td>0</td>\n",
              "      <td>0</td>\n",
              "      <td>0</td>\n",
              "      <td>0</td>\n",
              "      <td>0</td>\n",
              "      <td>1</td>\n",
              "      <td>0</td>\n",
              "      <td>1</td>\n",
              "    </tr>\n",
              "    <tr>\n",
              "      <th>887</th>\n",
              "      <td>1</td>\n",
              "      <td>1</td>\n",
              "      <td>0</td>\n",
              "      <td>19.0</td>\n",
              "      <td>30.00</td>\n",
              "      <td>0</td>\n",
              "      <td>1</td>\n",
              "      <td>0</td>\n",
              "      <td>0</td>\n",
              "      <td>0</td>\n",
              "      <td>0</td>\n",
              "      <td>0</td>\n",
              "      <td>0</td>\n",
              "      <td>1</td>\n",
              "      <td>0</td>\n",
              "      <td>1</td>\n",
              "    </tr>\n",
              "    <tr>\n",
              "      <th>888</th>\n",
              "      <td>0</td>\n",
              "      <td>3</td>\n",
              "      <td>0</td>\n",
              "      <td>25.0</td>\n",
              "      <td>23.45</td>\n",
              "      <td>0</td>\n",
              "      <td>0</td>\n",
              "      <td>0</td>\n",
              "      <td>0</td>\n",
              "      <td>0</td>\n",
              "      <td>0</td>\n",
              "      <td>0</td>\n",
              "      <td>0</td>\n",
              "      <td>1</td>\n",
              "      <td>0</td>\n",
              "      <td>4</td>\n",
              "    </tr>\n",
              "    <tr>\n",
              "      <th>889</th>\n",
              "      <td>1</td>\n",
              "      <td>1</td>\n",
              "      <td>1</td>\n",
              "      <td>26.0</td>\n",
              "      <td>30.00</td>\n",
              "      <td>0</td>\n",
              "      <td>0</td>\n",
              "      <td>1</td>\n",
              "      <td>0</td>\n",
              "      <td>0</td>\n",
              "      <td>0</td>\n",
              "      <td>0</td>\n",
              "      <td>0</td>\n",
              "      <td>0</td>\n",
              "      <td>1</td>\n",
              "      <td>1</td>\n",
              "    </tr>\n",
              "    <tr>\n",
              "      <th>890</th>\n",
              "      <td>0</td>\n",
              "      <td>3</td>\n",
              "      <td>1</td>\n",
              "      <td>32.0</td>\n",
              "      <td>7.75</td>\n",
              "      <td>0</td>\n",
              "      <td>0</td>\n",
              "      <td>0</td>\n",
              "      <td>0</td>\n",
              "      <td>0</td>\n",
              "      <td>0</td>\n",
              "      <td>0</td>\n",
              "      <td>0</td>\n",
              "      <td>0</td>\n",
              "      <td>0</td>\n",
              "      <td>1</td>\n",
              "    </tr>\n",
              "  </tbody>\n",
              "</table>\n",
              "</div>"
            ],
            "text/plain": [
              "     Survived  Pclass  Sex   Age  ...  Cabin T  Embarked S  Embarked C  FamilySize\n",
              "886         0       2    1  27.0  ...        0           1           0           1\n",
              "887         1       1    0  19.0  ...        0           1           0           1\n",
              "888         0       3    0  25.0  ...        0           1           0           4\n",
              "889         1       1    1  26.0  ...        0           0           1           1\n",
              "890         0       3    1  32.0  ...        0           0           0           1\n",
              "\n",
              "[5 rows x 16 columns]"
            ]
          },
          "metadata": {
            "tags": []
          },
          "execution_count": 113
        }
      ]
    },
    {
      "cell_type": "code",
      "metadata": {
        "id": "FPAM3U2sGmGC"
      },
      "source": [
        "training_df1=training_df.copy()\n",
        "test_df1=test_df.copy()"
      ],
      "execution_count": 114,
      "outputs": []
    },
    {
      "cell_type": "code",
      "metadata": {
        "id": "0dnZbbrdGmhk"
      },
      "source": [
        "x=training_df1.drop([\"Survived\"],axis=1)\n",
        "y=training_df1[\"Survived\"]"
      ],
      "execution_count": 115,
      "outputs": []
    },
    {
      "cell_type": "code",
      "metadata": {
        "id": "iyM85CZZGm6M",
        "outputId": "e5e77d9d-c771-4d85-8fa5-96125e498973",
        "colab": {
          "base_uri": "https://localhost:8080/",
          "height": 34
        }
      },
      "source": [
        "print(x.shape, y.shape)"
      ],
      "execution_count": 116,
      "outputs": [
        {
          "output_type": "stream",
          "text": [
            "(891, 15) (891,)\n"
          ],
          "name": "stdout"
        }
      ]
    },
    {
      "cell_type": "code",
      "metadata": {
        "id": "1qAZOVqPGmue"
      },
      "source": [
        "x_train,x_test,y_train,y_test=train_test_split(x,y,test_size=0.2,random_state=0)"
      ],
      "execution_count": 117,
      "outputs": []
    },
    {
      "cell_type": "code",
      "metadata": {
        "id": "3QFMnbQLGmTj",
        "outputId": "86a609d4-7a78-4ad9-9591-73899f1d3d48",
        "colab": {
          "base_uri": "https://localhost:8080/",
          "height": 34
        }
      },
      "source": [
        "print(x_train.shape, x_test.shape)"
      ],
      "execution_count": 118,
      "outputs": [
        {
          "output_type": "stream",
          "text": [
            "(712, 15) (179, 15)\n"
          ],
          "name": "stdout"
        }
      ]
    },
    {
      "cell_type": "code",
      "metadata": {
        "id": "JdrC0DxzGl3Y",
        "outputId": "001da758-9764-4901-bdb3-1039529b967e",
        "colab": {
          "base_uri": "https://localhost:8080/",
          "height": 204
        }
      },
      "source": [
        "x_train.head()"
      ],
      "execution_count": 119,
      "outputs": [
        {
          "output_type": "execute_result",
          "data": {
            "text/html": [
              "<div>\n",
              "<style scoped>\n",
              "    .dataframe tbody tr th:only-of-type {\n",
              "        vertical-align: middle;\n",
              "    }\n",
              "\n",
              "    .dataframe tbody tr th {\n",
              "        vertical-align: top;\n",
              "    }\n",
              "\n",
              "    .dataframe thead th {\n",
              "        text-align: right;\n",
              "    }\n",
              "</style>\n",
              "<table border=\"1\" class=\"dataframe\">\n",
              "  <thead>\n",
              "    <tr style=\"text-align: right;\">\n",
              "      <th></th>\n",
              "      <th>Pclass</th>\n",
              "      <th>Sex</th>\n",
              "      <th>Age</th>\n",
              "      <th>Fare</th>\n",
              "      <th>Cabin A</th>\n",
              "      <th>Cabin B</th>\n",
              "      <th>Cabin C</th>\n",
              "      <th>Cabin D</th>\n",
              "      <th>Cabin E</th>\n",
              "      <th>Cabin F</th>\n",
              "      <th>Cabin G</th>\n",
              "      <th>Cabin T</th>\n",
              "      <th>Embarked S</th>\n",
              "      <th>Embarked C</th>\n",
              "      <th>FamilySize</th>\n",
              "    </tr>\n",
              "  </thead>\n",
              "  <tbody>\n",
              "    <tr>\n",
              "      <th>140</th>\n",
              "      <td>3</td>\n",
              "      <td>0</td>\n",
              "      <td>25.0</td>\n",
              "      <td>15.2458</td>\n",
              "      <td>0</td>\n",
              "      <td>0</td>\n",
              "      <td>0</td>\n",
              "      <td>0</td>\n",
              "      <td>0</td>\n",
              "      <td>0</td>\n",
              "      <td>0</td>\n",
              "      <td>0</td>\n",
              "      <td>0</td>\n",
              "      <td>1</td>\n",
              "      <td>3</td>\n",
              "    </tr>\n",
              "    <tr>\n",
              "      <th>439</th>\n",
              "      <td>2</td>\n",
              "      <td>1</td>\n",
              "      <td>31.0</td>\n",
              "      <td>10.5000</td>\n",
              "      <td>0</td>\n",
              "      <td>0</td>\n",
              "      <td>0</td>\n",
              "      <td>0</td>\n",
              "      <td>0</td>\n",
              "      <td>0</td>\n",
              "      <td>0</td>\n",
              "      <td>0</td>\n",
              "      <td>1</td>\n",
              "      <td>0</td>\n",
              "      <td>1</td>\n",
              "    </tr>\n",
              "    <tr>\n",
              "      <th>817</th>\n",
              "      <td>2</td>\n",
              "      <td>1</td>\n",
              "      <td>31.0</td>\n",
              "      <td>37.0042</td>\n",
              "      <td>0</td>\n",
              "      <td>0</td>\n",
              "      <td>0</td>\n",
              "      <td>0</td>\n",
              "      <td>0</td>\n",
              "      <td>0</td>\n",
              "      <td>0</td>\n",
              "      <td>0</td>\n",
              "      <td>0</td>\n",
              "      <td>1</td>\n",
              "      <td>3</td>\n",
              "    </tr>\n",
              "    <tr>\n",
              "      <th>378</th>\n",
              "      <td>3</td>\n",
              "      <td>1</td>\n",
              "      <td>20.0</td>\n",
              "      <td>4.0125</td>\n",
              "      <td>0</td>\n",
              "      <td>0</td>\n",
              "      <td>0</td>\n",
              "      <td>0</td>\n",
              "      <td>0</td>\n",
              "      <td>0</td>\n",
              "      <td>0</td>\n",
              "      <td>0</td>\n",
              "      <td>0</td>\n",
              "      <td>1</td>\n",
              "      <td>1</td>\n",
              "    </tr>\n",
              "    <tr>\n",
              "      <th>491</th>\n",
              "      <td>3</td>\n",
              "      <td>1</td>\n",
              "      <td>21.0</td>\n",
              "      <td>7.2500</td>\n",
              "      <td>0</td>\n",
              "      <td>0</td>\n",
              "      <td>0</td>\n",
              "      <td>0</td>\n",
              "      <td>0</td>\n",
              "      <td>0</td>\n",
              "      <td>0</td>\n",
              "      <td>0</td>\n",
              "      <td>1</td>\n",
              "      <td>0</td>\n",
              "      <td>1</td>\n",
              "    </tr>\n",
              "  </tbody>\n",
              "</table>\n",
              "</div>"
            ],
            "text/plain": [
              "     Pclass  Sex   Age     Fare  ...  Cabin T  Embarked S  Embarked C  FamilySize\n",
              "140       3    0  25.0  15.2458  ...        0           0           1           3\n",
              "439       2    1  31.0  10.5000  ...        0           1           0           1\n",
              "817       2    1  31.0  37.0042  ...        0           0           1           3\n",
              "378       3    1  20.0   4.0125  ...        0           0           1           1\n",
              "491       3    1  21.0   7.2500  ...        0           1           0           1\n",
              "\n",
              "[5 rows x 15 columns]"
            ]
          },
          "metadata": {
            "tags": []
          },
          "execution_count": 119
        }
      ]
    },
    {
      "cell_type": "code",
      "metadata": {
        "id": "B8o3FJdTGldf"
      },
      "source": [
        "k_fold = KFold(n_splits=5, shuffle=True, random_state=0)"
      ],
      "execution_count": 120,
      "outputs": []
    },
    {
      "cell_type": "code",
      "metadata": {
        "id": "Ijd2HaETIk3W"
      },
      "source": [
        "def acc_score(model):\n",
        "    return np.mean(cross_val_score(model,x_train,y_train,cv=k_fold,scoring=\"accuracy\"))"
      ],
      "execution_count": 121,
      "outputs": []
    },
    {
      "cell_type": "code",
      "metadata": {
        "id": "GRYbeGnVIlyw"
      },
      "source": [
        "def confusion_matrix_model(model_used):\n",
        "    cm=confusion_matrix(y_test,model_used.predict(x_test))\n",
        "    col=[\"Predicted Dead\",\"Predicted Survived\"]\n",
        "    cm=pd.DataFrame(cm)\n",
        "    cm.columns=[\"Predicted Dead\",\"Predicted Survived\"]\n",
        "    cm.index=[\"Actual Dead\",\"Actual Survived\"]\n",
        "    cm[col]=np.around(cm[col].div(cm[col].sum(axis=1),axis=0),decimals=2)\n",
        "    return cm"
      ],
      "execution_count": 122,
      "outputs": []
    },
    {
      "cell_type": "code",
      "metadata": {
        "id": "Bu7oKRgPImI2"
      },
      "source": [
        "def importance_of_features(model):\n",
        "    features = pd.DataFrame()\n",
        "    features['feature'] = x_train.columns\n",
        "    features['importance'] = model.feature_importances_\n",
        "    features.sort_values(by=['importance'], ascending=True, inplace=True)\n",
        "    features.set_index('feature', inplace=True)\n",
        "    return features.plot(kind='barh', figsize=(10,10))"
      ],
      "execution_count": 123,
      "outputs": []
    },
    {
      "cell_type": "code",
      "metadata": {
        "id": "eRdKzHP7Imfv"
      },
      "source": [
        "def aucscore(model,has_proba=True):\n",
        "    if has_proba:\n",
        "        fpr,tpr,thresh=skplt.metrics.roc_curve(y_test,model.predict_proba(x_test)[:,1])\n",
        "    else:\n",
        "        fpr,tpr,thresh=skplt.metrics.roc_curve(y_test,model.decision_function(x_test))\n",
        "    x=fpr\n",
        "    y=tpr\n",
        "    auc= skplt.metrics.auc(x,y)\n",
        "    return auc\n",
        "def plt_roc_curve(name,model,has_proba=True):\n",
        "    if has_proba:\n",
        "        fpr,tpr,thresh=skplt.metrics.roc_curve(y_test,model.predict_proba(x_test)[:,1])\n",
        "    else:\n",
        "        fpr,tpr,thresh=skplt.metrics.roc_curve(y_test,model.decision_function(x_test))\n",
        "    x=fpr\n",
        "    y=tpr\n",
        "    auc= skplt.metrics.auc(x,y)\n",
        "    plt.plot(x,y,label='ROC curve for %s (AUC = %0.2f)' % (name, auc))\n",
        "    plt.plot([0, 1], [0, 1], 'k--')\n",
        "    plt.xlim((0,1))\n",
        "    plt.ylim((0,1))\n",
        "    plt.xlabel(\"False Positive Rate\")\n",
        "    plt.ylabel(\"True Positive Rate\")\n",
        "    plt.title(\"ROC Curve\")\n",
        "    plt.legend(loc=\"lower right\")\n",
        "    plt.show()"
      ],
      "execution_count": 124,
      "outputs": []
    },
    {
      "cell_type": "code",
      "metadata": {
        "id": "AwKe9ZdaIm5j",
        "outputId": "8cebb1e1-914e-4cb4-e015-fe775934dbe9",
        "colab": {
          "base_uri": "https://localhost:8080/",
          "height": 128
        }
      },
      "source": [
        "log_reg=LogisticRegression()\n",
        "log_reg.fit(x_train,y_train)\n",
        "\n",
        "print(\"Accuracy: \" + str(acc_score(log_reg)))\n",
        "confusion_matrix_model(log_reg)"
      ],
      "execution_count": 125,
      "outputs": [
        {
          "output_type": "stream",
          "text": [
            "Accuracy: 0.7964050034472571\n"
          ],
          "name": "stdout"
        },
        {
          "output_type": "execute_result",
          "data": {
            "text/html": [
              "<div>\n",
              "<style scoped>\n",
              "    .dataframe tbody tr th:only-of-type {\n",
              "        vertical-align: middle;\n",
              "    }\n",
              "\n",
              "    .dataframe tbody tr th {\n",
              "        vertical-align: top;\n",
              "    }\n",
              "\n",
              "    .dataframe thead th {\n",
              "        text-align: right;\n",
              "    }\n",
              "</style>\n",
              "<table border=\"1\" class=\"dataframe\">\n",
              "  <thead>\n",
              "    <tr style=\"text-align: right;\">\n",
              "      <th></th>\n",
              "      <th>Predicted Dead</th>\n",
              "      <th>Predicted Survived</th>\n",
              "    </tr>\n",
              "  </thead>\n",
              "  <tbody>\n",
              "    <tr>\n",
              "      <th>Actual Dead</th>\n",
              "      <td>0.88</td>\n",
              "      <td>0.12</td>\n",
              "    </tr>\n",
              "    <tr>\n",
              "      <th>Actual Survived</th>\n",
              "      <td>0.26</td>\n",
              "      <td>0.74</td>\n",
              "    </tr>\n",
              "  </tbody>\n",
              "</table>\n",
              "</div>"
            ],
            "text/plain": [
              "                 Predicted Dead  Predicted Survived\n",
              "Actual Dead                0.88                0.12\n",
              "Actual Survived            0.26                0.74"
            ]
          },
          "metadata": {
            "tags": []
          },
          "execution_count": 125
        }
      ]
    },
    {
      "cell_type": "code",
      "metadata": {
        "id": "rld5iAsYImtc",
        "outputId": "32242b90-2337-4d0b-a44a-444d66aefd77",
        "colab": {
          "base_uri": "https://localhost:8080/",
          "height": 136
        }
      },
      "source": [
        "print(log_reg.coef_)\n",
        "print(x_train.columns)"
      ],
      "execution_count": 150,
      "outputs": [
        {
          "output_type": "stream",
          "text": [
            "[[-0.78914085 -2.56471615 -0.04050749  0.0031732   0.62220948  0.25504887\n",
            "  -0.06030323  0.84087601  1.62124581  0.94357772 -0.01752028 -0.12363845\n",
            "  -0.33689912 -0.04077274 -0.21064086]]\n",
            "Index(['Pclass', 'Sex', 'Age', 'Fare', 'Cabin A', 'Cabin B', 'Cabin C',\n",
            "       'Cabin D', 'Cabin E', 'Cabin F', 'Cabin G', 'Cabin T', 'Embarked S',\n",
            "       'Embarked C', 'FamilySize'],\n",
            "      dtype='object')\n"
          ],
          "name": "stdout"
        }
      ]
    },
    {
      "cell_type": "code",
      "metadata": {
        "id": "Y0hyQA0c0uyC",
        "outputId": "71dfa3f4-ac31-4699-8278-f093697b7127",
        "colab": {
          "base_uri": "https://localhost:8080/",
          "height": 34
        }
      },
      "source": [
        "exp(-0.21064086)"
      ],
      "execution_count": 167,
      "outputs": [
        {
          "output_type": "execute_result",
          "data": {
            "text/plain": [
              "0.8100649413688613"
            ]
          },
          "metadata": {
            "tags": []
          },
          "execution_count": 167
        }
      ]
    },
    {
      "cell_type": "code",
      "metadata": {
        "id": "KaxOLlDlImTS",
        "outputId": "cfaa3de5-486e-461a-c3ea-298eb2b09415",
        "colab": {
          "base_uri": "https://localhost:8080/",
          "height": 34
        }
      },
      "source": [
        "print(log_reg.intercept_)"
      ],
      "execution_count": 127,
      "outputs": [
        {
          "output_type": "stream",
          "text": [
            "[4.46457377]\n"
          ],
          "name": "stdout"
        }
      ]
    },
    {
      "cell_type": "code",
      "metadata": {
        "id": "-89jmjkjzbI1",
        "outputId": "bf1e3288-c42c-47ed-f6f7-7afaf0431037",
        "colab": {
          "base_uri": "https://localhost:8080/",
          "height": 34
        }
      },
      "source": [
        "exp(4.46457377)"
      ],
      "execution_count": 155,
      "outputs": [
        {
          "output_type": "execute_result",
          "data": {
            "text/plain": [
              "86.88398908376922"
            ]
          },
          "metadata": {
            "tags": []
          },
          "execution_count": 155
        }
      ]
    },
    {
      "cell_type": "code",
      "metadata": {
        "id": "hwlm3PB7Il_-",
        "outputId": "a2a47080-1abd-407b-df51-1bd07ceaaef1",
        "colab": {
          "base_uri": "https://localhost:8080/",
          "height": 301
        }
      },
      "source": [
        "plt_roc_curve(\"Logistic Regression\",log_reg,has_proba=True)"
      ],
      "execution_count": 128,
      "outputs": [
        {
          "output_type": "display_data",
          "data": {
            "image/png": "[encoded data removed]",
            "text/plain": [
              "<Figure size 432x288 with 1 Axes>"
            ]
          },
          "metadata": {
            "tags": [],
            "needs_background": "light"
          }
        }
      ]
    },
    {
      "cell_type": "code",
      "metadata": {
        "id": "x7GpyZSAIllz",
        "outputId": "2548c119-c045-4cdf-cd1e-8a1b3cd4f787",
        "colab": {
          "base_uri": "https://localhost:8080/",
          "height": 591
        }
      },
      "source": [
        "skplt.metrics.plot_confusion_matrix(y_test, log_reg.predict(x_test),normalize=True, figsize=(10,10))"
      ],
      "execution_count": 129,
      "outputs": [
        {
          "output_type": "execute_result",
          "data": {
            "text/plain": [
              "<matplotlib.axes._subplots.AxesSubplot at 0x7fae855fa6a0>"
            ]
          },
          "metadata": {
            "tags": []
          },
          "execution_count": 129
        },
        {
          "output_type": "display_data",
          "data": {
            "image/png": "[encoded data removed]",
            "text/plain": [
              "<Figure size 720x720 with 2 Axes>"
            ]
          },
          "metadata": {
            "tags": [],
            "needs_background": "light"
          }
        }
      ]
    },
    {
      "cell_type": "code",
      "metadata": {
        "id": "3hZ32QSGNtp2",
        "outputId": "2b3b9a42-7732-4864-8dd1-46c282813186",
        "colab": {
          "base_uri": "https://localhost:8080/",
          "height": 301
        }
      },
      "source": [
        "logit_roc_auc = roc_auc_score(y_test, log_reg.predict(x_test))\n",
        "fpr, tpr, thresholds = roc_curve(y_test, log_reg.predict_proba(x_test)[:,1])\n",
        "plt.figure()\n",
        "plt.plot(fpr, tpr, label='Logistic Regression (area = %0.2f)' % logit_roc_auc)\n",
        "plt.plot([0, 1], [0, 1],'r--')\n",
        "plt.xlim([0.0, 1.0])\n",
        "plt.ylim([0.0, 1.05])\n",
        "plt.xlabel('False Positive Rate')\n",
        "plt.ylabel('True Positive Rate')\n",
        "plt.title('Receiver operating characteristic')\n",
        "plt.legend(loc=\"lower right\")\n",
        "plt.savefig('Log_ROC')\n",
        "plt.show()"
      ],
      "execution_count": 130,
      "outputs": [
        {
          "output_type": "display_data",
          "data": {
            "image/png": "[encoded data removed]",
            "text/plain": [
              "<Figure size 432x288 with 1 Axes>"
            ]
          },
          "metadata": {
            "tags": [],
            "needs_background": "light"
          }
        }
      ]
    },
    {
      "cell_type": "code",
      "metadata": {
        "id": "Cd5rGG1GuydN",
        "outputId": "0550ba81-e202-4860-8d9f-de0e72ea2d9a",
        "colab": {
          "base_uri": "https://localhost:8080/",
          "height": 34
        }
      },
      "source": [
        "logit_roc_auc"
      ],
      "execution_count": 144,
      "outputs": [
        {
          "output_type": "execute_result",
          "data": {
            "text/plain": [
              "0.8104743083003952"
            ]
          },
          "metadata": {
            "tags": []
          },
          "execution_count": 144
        }
      ]
    },
    {
      "cell_type": "code",
      "metadata": {
        "id": "uMA6Yi4PNyRx",
        "outputId": "00095b81-e0c1-4b98-f2b3-7a463b8b7d2a",
        "colab": {
          "base_uri": "https://localhost:8080/",
          "height": 128
        }
      },
      "source": [
        "SVC_rbf=SVC(kernel=\"rbf\", probability=True)\n",
        "SVC_rbf.fit(x_train,y_train)\n",
        "\n",
        "print(\"Accuracy: \" + str(acc_score(SVC_rbf)))\n",
        "confusion_matrix_model(SVC_rbf)"
      ],
      "execution_count": 146,
      "outputs": [
        {
          "output_type": "stream",
          "text": [
            "Accuracy: 0.6558652614990643\n"
          ],
          "name": "stdout"
        },
        {
          "output_type": "execute_result",
          "data": {
            "text/html": [
              "<div>\n",
              "<style scoped>\n",
              "    .dataframe tbody tr th:only-of-type {\n",
              "        vertical-align: middle;\n",
              "    }\n",
              "\n",
              "    .dataframe tbody tr th {\n",
              "        vertical-align: top;\n",
              "    }\n",
              "\n",
              "    .dataframe thead th {\n",
              "        text-align: right;\n",
              "    }\n",
              "</style>\n",
              "<table border=\"1\" class=\"dataframe\">\n",
              "  <thead>\n",
              "    <tr style=\"text-align: right;\">\n",
              "      <th></th>\n",
              "      <th>Predicted Dead</th>\n",
              "      <th>Predicted Survived</th>\n",
              "    </tr>\n",
              "  </thead>\n",
              "  <tbody>\n",
              "    <tr>\n",
              "      <th>Actual Dead</th>\n",
              "      <td>0.95</td>\n",
              "      <td>0.05</td>\n",
              "    </tr>\n",
              "    <tr>\n",
              "      <th>Actual Survived</th>\n",
              "      <td>0.62</td>\n",
              "      <td>0.38</td>\n",
              "    </tr>\n",
              "  </tbody>\n",
              "</table>\n",
              "</div>"
            ],
            "text/plain": [
              "                 Predicted Dead  Predicted Survived\n",
              "Actual Dead                0.95                0.05\n",
              "Actual Survived            0.62                0.38"
            ]
          },
          "metadata": {
            "tags": []
          },
          "execution_count": 146
        }
      ]
    },
    {
      "cell_type": "code",
      "metadata": {
        "id": "_LY47SwuRTyd",
        "outputId": "57baaa24-f37e-4a5c-f265-9998f8da9120",
        "colab": {
          "base_uri": "https://localhost:8080/",
          "height": 591
        }
      },
      "source": [
        "skplt.metrics.plot_confusion_matrix(y_test, SVC_rbf.predict(x_test),normalize=True, figsize=(10,10))"
      ],
      "execution_count": 147,
      "outputs": [
        {
          "output_type": "execute_result",
          "data": {
            "text/plain": [
              "<matplotlib.axes._subplots.AxesSubplot at 0x7fae8560eeb8>"
            ]
          },
          "metadata": {
            "tags": []
          },
          "execution_count": 147
        },
        {
          "output_type": "display_data",
          "data": {
            "image/png": "[encoded data removed]",
            "text/plain": [
              "<Figure size 720x720 with 2 Axes>"
            ]
          },
          "metadata": {
            "tags": [],
            "needs_background": "light"
          }
        }
      ]
    },
    {
      "cell_type": "code",
      "metadata": {
        "id": "e1nqSwk9vFTP",
        "outputId": "5eba5cf7-8e62-40a6-d47d-040eea955fab",
        "colab": {
          "base_uri": "https://localhost:8080/",
          "height": 301
        }
      },
      "source": [
        "svm_roc_auc = roc_auc_score(y_test, SVC_rbf.predict(x_test))\n",
        "fpr, tpr, thresholds = roc_curve(y_test, SVC_rbf.predict_proba(x_test)[:,1])\n",
        "plt.figure()\n",
        "plt.plot(fpr, tpr, label='SVM (area = %0.2f)' % svm_roc_auc)\n",
        "plt.plot([0, 1], [0, 1],'r--')\n",
        "plt.xlim([0.0, 1.0])\n",
        "plt.ylim([0.0, 1.05])\n",
        "plt.xlabel('False Positive Rate')\n",
        "plt.ylabel('True Positive Rate')\n",
        "plt.title('Receiver operating characteristic')\n",
        "plt.legend(loc=\"lower right\")\n",
        "plt.savefig('Log_ROC')\n",
        "plt.show()"
      ],
      "execution_count": 148,
      "outputs": [
        {
          "output_type": "display_data",
          "data": {
            "image/png": "[encoded data removed]",
            "text/plain": [
              "<Figure size 432x288 with 1 Axes>"
            ]
          },
          "metadata": {
            "tags": [],
            "needs_background": "light"
          }
        }
      ]
    },
    {
      "cell_type": "code",
      "metadata": {
        "id": "y84yHkoivpP4",
        "outputId": "773acd23-ce4d-4c8c-a6c2-050eeb3d23c2",
        "colab": {
          "base_uri": "https://localhost:8080/",
          "height": 34
        }
      },
      "source": [
        "svm_roc_auc"
      ],
      "execution_count": 149,
      "outputs": [
        {
          "output_type": "execute_result",
          "data": {
            "text/plain": [
              "0.661133069828722"
            ]
          },
          "metadata": {
            "tags": []
          },
          "execution_count": 149
        }
      ]
    },
    {
      "cell_type": "code",
      "metadata": {
        "id": "PmJOxTM0RWp-"
      },
      "source": [
        "Survived = log_reg.predict(test_df_predict)\n",
        "Survived = pd.DataFrame({'Survived':Survived})"
      ],
      "execution_count": 133,
      "outputs": []
    },
    {
      "cell_type": "code",
      "metadata": {
        "id": "2x8Apl8yW0ID"
      },
      "source": [
        "logreg_submission=pd.concat([test_df_submit, Survived], axis=1)"
      ],
      "execution_count": 134,
      "outputs": []
    },
    {
      "cell_type": "code",
      "metadata": {
        "id": "AKYQXrvujl0g",
        "outputId": "24bdcc48-f10c-4782-d62d-0e0409c5e64b",
        "colab": {
          "base_uri": "https://localhost:8080/",
          "height": 204
        }
      },
      "source": [
        "logreg_submission.tail()"
      ],
      "execution_count": 135,
      "outputs": [
        {
          "output_type": "execute_result",
          "data": {
            "text/html": [
              "<div>\n",
              "<style scoped>\n",
              "    .dataframe tbody tr th:only-of-type {\n",
              "        vertical-align: middle;\n",
              "    }\n",
              "\n",
              "    .dataframe tbody tr th {\n",
              "        vertical-align: top;\n",
              "    }\n",
              "\n",
              "    .dataframe thead th {\n",
              "        text-align: right;\n",
              "    }\n",
              "</style>\n",
              "<table border=\"1\" class=\"dataframe\">\n",
              "  <thead>\n",
              "    <tr style=\"text-align: right;\">\n",
              "      <th></th>\n",
              "      <th>PassengerId</th>\n",
              "      <th>Survived</th>\n",
              "    </tr>\n",
              "  </thead>\n",
              "  <tbody>\n",
              "    <tr>\n",
              "      <th>413</th>\n",
              "      <td>1305</td>\n",
              "      <td>0</td>\n",
              "    </tr>\n",
              "    <tr>\n",
              "      <th>414</th>\n",
              "      <td>1306</td>\n",
              "      <td>1</td>\n",
              "    </tr>\n",
              "    <tr>\n",
              "      <th>415</th>\n",
              "      <td>1307</td>\n",
              "      <td>0</td>\n",
              "    </tr>\n",
              "    <tr>\n",
              "      <th>416</th>\n",
              "      <td>1308</td>\n",
              "      <td>0</td>\n",
              "    </tr>\n",
              "    <tr>\n",
              "      <th>417</th>\n",
              "      <td>1309</td>\n",
              "      <td>0</td>\n",
              "    </tr>\n",
              "  </tbody>\n",
              "</table>\n",
              "</div>"
            ],
            "text/plain": [
              "     PassengerId  Survived\n",
              "413         1305         0\n",
              "414         1306         1\n",
              "415         1307         0\n",
              "416         1308         0\n",
              "417         1309         0"
            ]
          },
          "metadata": {
            "tags": []
          },
          "execution_count": 135
        }
      ]
    },
    {
      "cell_type": "code",
      "metadata": {
        "id": "9y5G3aFJiJcs"
      },
      "source": [
        "from google.colab import files\n",
        "logreg_submission.to_csv('logreg_submission.csv', index=False) "
      ],
      "execution_count": 136,
      "outputs": []
    },
    {
      "cell_type": "code",
      "metadata": {
        "id": "U9j6HydTkO7Y"
      },
      "source": [
        "Survived = SVC_rbf.predict(test_df_predict)\n",
        "Survived = pd.DataFrame({'Survived':Survived})\n",
        "svm_submission=pd.concat([test_df_submit, Survived], axis=1)\n",
        "svm_submission.to_csv('svm_submission.csv', index=False) "
      ],
      "execution_count": 137,
      "outputs": []
    },
    {
      "cell_type": "code",
      "metadata": {
        "id": "ffMe3-AxmyGw",
        "outputId": "1e472e46-f4b9-47ba-d8f2-dadc2dffa1ce",
        "colab": {
          "base_uri": "https://localhost:8080/",
          "height": 128
        }
      },
      "source": [
        "gnb = GaussianNB()\n",
        "gnb.fit(x_train,y_train)\n",
        "\n",
        "print(\"Accuracy: \" + str(acc_score(gnb)))\n",
        "confusion_matrix_model(gnb)"
      ],
      "execution_count": 138,
      "outputs": [
        {
          "output_type": "stream",
          "text": [
            "Accuracy: 0.7331133655077318\n"
          ],
          "name": "stdout"
        },
        {
          "output_type": "execute_result",
          "data": {
            "text/html": [
              "<div>\n",
              "<style scoped>\n",
              "    .dataframe tbody tr th:only-of-type {\n",
              "        vertical-align: middle;\n",
              "    }\n",
              "\n",
              "    .dataframe tbody tr th {\n",
              "        vertical-align: top;\n",
              "    }\n",
              "\n",
              "    .dataframe thead th {\n",
              "        text-align: right;\n",
              "    }\n",
              "</style>\n",
              "<table border=\"1\" class=\"dataframe\">\n",
              "  <thead>\n",
              "    <tr style=\"text-align: right;\">\n",
              "      <th></th>\n",
              "      <th>Predicted Dead</th>\n",
              "      <th>Predicted Survived</th>\n",
              "    </tr>\n",
              "  </thead>\n",
              "  <tbody>\n",
              "    <tr>\n",
              "      <th>Actual Dead</th>\n",
              "      <td>0.83</td>\n",
              "      <td>0.17</td>\n",
              "    </tr>\n",
              "    <tr>\n",
              "      <th>Actual Survived</th>\n",
              "      <td>0.23</td>\n",
              "      <td>0.77</td>\n",
              "    </tr>\n",
              "  </tbody>\n",
              "</table>\n",
              "</div>"
            ],
            "text/plain": [
              "                 Predicted Dead  Predicted Survived\n",
              "Actual Dead                0.83                0.17\n",
              "Actual Survived            0.23                0.77"
            ]
          },
          "metadata": {
            "tags": []
          },
          "execution_count": 138
        }
      ]
    },
    {
      "cell_type": "code",
      "metadata": {
        "id": "57iRZjTE9XaH",
        "outputId": "7450d5bd-a551-4886-c12b-2fc76de5a8a3",
        "colab": {
          "base_uri": "https://localhost:8080/",
          "height": 153
        }
      },
      "source": [
        "gnb.theta_"
      ],
      "execution_count": 168,
      "outputs": [
        {
          "output_type": "execute_result",
          "data": {
            "text/plain": [
              "array([[2.52391800e+00, 8.56492027e-01, 2.96218679e+01, 2.27892920e+01,\n",
              "        1.82232346e-02, 2.27790433e-02, 4.55580866e-02, 1.82232346e-02,\n",
              "        1.59453303e-02, 6.83371298e-03, 2.27790433e-03, 2.27790433e-03,\n",
              "        7.76765376e-01, 1.38952164e-01, 1.91116173e+00],\n",
              "       [1.98534799e+00, 3.26007326e-01, 2.74926740e+01, 4.64539234e+01,\n",
              "        2.56410256e-02, 9.52380952e-02, 8.79120879e-02, 6.59340659e-02,\n",
              "        8.05860806e-02, 2.19780220e-02, 7.32600733e-03, 0.00000000e+00,\n",
              "        6.52014652e-01, 2.49084249e-01, 1.93772894e+00]])"
            ]
          },
          "metadata": {
            "tags": []
          },
          "execution_count": 168
        }
      ]
    },
    {
      "cell_type": "code",
      "metadata": {
        "id": "qsVSy6zb-Rr3",
        "outputId": "dfd1a695-c5bf-4aad-e5f7-8252fd502c24",
        "colab": {
          "base_uri": "https://localhost:8080/",
          "height": 34
        }
      },
      "source": [
        "gnb.classes_"
      ],
      "execution_count": 169,
      "outputs": [
        {
          "output_type": "execute_result",
          "data": {
            "text/plain": [
              "array([0, 1])"
            ]
          },
          "metadata": {
            "tags": []
          },
          "execution_count": 169
        }
      ]
    },
    {
      "cell_type": "code",
      "metadata": {
        "id": "-CGCUgwE-beO",
        "outputId": "7b1ce162-bffe-4435-ab64-1911a5390607",
        "colab": {
          "base_uri": "https://localhost:8080/",
          "height": 85
        }
      },
      "source": [
        "print(x_train.columns)"
      ],
      "execution_count": 170,
      "outputs": [
        {
          "output_type": "stream",
          "text": [
            "Index(['Pclass', 'Sex', 'Age', 'Fare', 'Cabin A', 'Cabin B', 'Cabin C',\n",
            "       'Cabin D', 'Cabin E', 'Cabin F', 'Cabin G', 'Cabin T', 'Embarked S',\n",
            "       'Embarked C', 'FamilySize'],\n",
            "      dtype='object')\n"
          ],
          "name": "stdout"
        }
      ]
    },
    {
      "cell_type": "code",
      "metadata": {
        "id": "py9Jp02lrqt9",
        "outputId": "0df2bce8-8fa8-420c-c5d6-3edd8f5b8927",
        "colab": {
          "base_uri": "https://localhost:8080/",
          "height": 301
        }
      },
      "source": [
        "plt_roc_curve(\"Gaussian Naive Bayes\",gnb,has_proba=True)"
      ],
      "execution_count": 139,
      "outputs": [
        {
          "output_type": "display_data",
          "data": {
            "image/png": "[encoded data removed]",
            "text/plain": [
              "<Figure size 432x288 with 1 Axes>"
            ]
          },
          "metadata": {
            "tags": [],
            "needs_background": "light"
          }
        }
      ]
    },
    {
      "cell_type": "code",
      "metadata": {
        "id": "yktd7jzYsA68",
        "outputId": "bb802f33-2831-45ca-c37a-dc745dab059b",
        "colab": {
          "base_uri": "https://localhost:8080/",
          "height": 591
        }
      },
      "source": [
        "skplt.metrics.plot_confusion_matrix(y_test, gnb.predict(x_test),normalize=True, figsize=(10,10))"
      ],
      "execution_count": 140,
      "outputs": [
        {
          "output_type": "execute_result",
          "data": {
            "text/plain": [
              "<matplotlib.axes._subplots.AxesSubplot at 0x7fae87501cc0>"
            ]
          },
          "metadata": {
            "tags": []
          },
          "execution_count": 140
        },
        {
          "output_type": "display_data",
          "data": {
            "image/png": "[encoded data removed]",
            "text/plain": [
              "<Figure size 720x720 with 2 Axes>"
            ]
          },
          "metadata": {
            "tags": [],
            "needs_background": "light"
          }
        }
      ]
    },
    {
      "cell_type": "code",
      "metadata": {
        "id": "iHvawuWNsVf9",
        "outputId": "227ff5da-535a-4874-8063-470bc662e63b",
        "colab": {
          "base_uri": "https://localhost:8080/",
          "height": 301
        }
      },
      "source": [
        "nb_roc_auc = roc_auc_score(y_test, gnb.predict(x_test))\n",
        "fpr, tpr, thresholds = roc_curve(y_test, gnb.predict_proba(x_test)[:,1])\n",
        "plt.figure()\n",
        "plt.plot(fpr, tpr, label='Gaussian Naive Bayes (area = %0.2f)' % nb_roc_auc)\n",
        "plt.plot([0, 1], [0, 1],'r--')\n",
        "plt.xlim([0.0, 1.0])\n",
        "plt.ylim([0.0, 1.05])\n",
        "plt.xlabel('False Positive Rate')\n",
        "plt.ylabel('True Positive Rate')\n",
        "plt.title('Receiver operating characteristic')\n",
        "plt.legend(loc=\"lower right\")\n",
        "plt.savefig('NB_ROC')\n",
        "plt.show()"
      ],
      "execution_count": 141,
      "outputs": [
        {
          "output_type": "display_data",
          "data": {
            "image/png": "[encoded data removed]",
            "text/plain": [
              "<Figure size 432x288 with 1 Axes>"
            ]
          },
          "metadata": {
            "tags": [],
            "needs_background": "light"
          }
        }
      ]
    },
    {
      "cell_type": "code",
      "metadata": {
        "id": "6_lqA_HGui-e",
        "outputId": "7965f714-2083-450b-f891-dcd8522afa5c",
        "colab": {
          "base_uri": "https://localhost:8080/",
          "height": 34
        }
      },
      "source": [
        "nb_roc_auc"
      ],
      "execution_count": 143,
      "outputs": [
        {
          "output_type": "execute_result",
          "data": {
            "text/plain": [
              "0.7976943346508564"
            ]
          },
          "metadata": {
            "tags": []
          },
          "execution_count": 143
        }
      ]
    },
    {
      "cell_type": "code",
      "metadata": {
        "id": "hTG18gnfsrgD"
      },
      "source": [
        "Survived = gnb.predict(test_df_predict)\n",
        "Survived = pd.DataFrame({'Survived':Survived})\n",
        "gnb_submission=pd.concat([test_df_submit, Survived], axis=1)\n",
        "gnb_submission.to_csv('gnb_submission.csv', index=False) "
      ],
      "execution_count": 142,
      "outputs": []
    },
    {
      "cell_type": "code",
      "metadata": {
        "id": "zHSf1_HYt5as"
      },
      "source": [
        ""
      ],
      "execution_count": 142,
      "outputs": []
    }
  ]
}